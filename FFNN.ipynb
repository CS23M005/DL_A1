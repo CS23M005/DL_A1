{
  "cells": [
    {
      "cell_type": "markdown",
      "metadata": {
        "id": "view-in-github",
        "colab_type": "text"
      },
      "source": [
        "<a href=\"https://colab.research.google.com/github/CS23M005/DL_A1/blob/main/FFNN.ipynb\" target=\"_parent\"><img src=\"https://colab.research.google.com/assets/colab-badge.svg\" alt=\"Open In Colab\"/></a>"
      ]
    },
    {
      "cell_type": "code",
      "source": [
        "!pip install wandb\n",
        "import wandb\n",
        "wandb.login()"
      ],
      "metadata": {
        "colab": {
          "base_uri": "https://localhost:8080/"
        },
        "id": "HpYTs31g_pIO",
        "outputId": "7b89436d-d9f5-41f8-9140-99c92171292b"
      },
      "execution_count": 27,
      "outputs": [
        {
          "output_type": "stream",
          "name": "stdout",
          "text": [
            "Requirement already satisfied: wandb in /usr/local/lib/python3.10/dist-packages (0.16.4)\n",
            "Requirement already satisfied: Click!=8.0.0,>=7.1 in /usr/local/lib/python3.10/dist-packages (from wandb) (8.1.7)\n",
            "Requirement already satisfied: GitPython!=3.1.29,>=1.0.0 in /usr/local/lib/python3.10/dist-packages (from wandb) (3.1.42)\n",
            "Requirement already satisfied: requests<3,>=2.0.0 in /usr/local/lib/python3.10/dist-packages (from wandb) (2.31.0)\n",
            "Requirement already satisfied: psutil>=5.0.0 in /usr/local/lib/python3.10/dist-packages (from wandb) (5.9.5)\n",
            "Requirement already satisfied: sentry-sdk>=1.0.0 in /usr/local/lib/python3.10/dist-packages (from wandb) (1.42.0)\n",
            "Requirement already satisfied: docker-pycreds>=0.4.0 in /usr/local/lib/python3.10/dist-packages (from wandb) (0.4.0)\n",
            "Requirement already satisfied: PyYAML in /usr/local/lib/python3.10/dist-packages (from wandb) (6.0.1)\n",
            "Requirement already satisfied: setproctitle in /usr/local/lib/python3.10/dist-packages (from wandb) (1.3.3)\n",
            "Requirement already satisfied: setuptools in /usr/local/lib/python3.10/dist-packages (from wandb) (67.7.2)\n",
            "Requirement already satisfied: appdirs>=1.4.3 in /usr/local/lib/python3.10/dist-packages (from wandb) (1.4.4)\n",
            "Requirement already satisfied: protobuf!=4.21.0,<5,>=3.19.0 in /usr/local/lib/python3.10/dist-packages (from wandb) (3.20.3)\n",
            "Requirement already satisfied: six>=1.4.0 in /usr/local/lib/python3.10/dist-packages (from docker-pycreds>=0.4.0->wandb) (1.16.0)\n",
            "Requirement already satisfied: gitdb<5,>=4.0.1 in /usr/local/lib/python3.10/dist-packages (from GitPython!=3.1.29,>=1.0.0->wandb) (4.0.11)\n",
            "Requirement already satisfied: charset-normalizer<4,>=2 in /usr/local/lib/python3.10/dist-packages (from requests<3,>=2.0.0->wandb) (3.3.2)\n",
            "Requirement already satisfied: idna<4,>=2.5 in /usr/local/lib/python3.10/dist-packages (from requests<3,>=2.0.0->wandb) (3.6)\n",
            "Requirement already satisfied: urllib3<3,>=1.21.1 in /usr/local/lib/python3.10/dist-packages (from requests<3,>=2.0.0->wandb) (2.0.7)\n",
            "Requirement already satisfied: certifi>=2017.4.17 in /usr/local/lib/python3.10/dist-packages (from requests<3,>=2.0.0->wandb) (2024.2.2)\n",
            "Requirement already satisfied: smmap<6,>=3.0.1 in /usr/local/lib/python3.10/dist-packages (from gitdb<5,>=4.0.1->GitPython!=3.1.29,>=1.0.0->wandb) (5.0.1)\n"
          ]
        },
        {
          "output_type": "execute_result",
          "data": {
            "text/plain": [
              "True"
            ]
          },
          "metadata": {},
          "execution_count": 27
        }
      ]
    },
    {
      "cell_type": "code",
      "execution_count": 28,
      "metadata": {
        "id": "B4SJx3D-MGUT"
      },
      "outputs": [],
      "source": [
        "import numpy as np\n",
        "import matplotlib.pyplot as plt\n",
        "from keras.datasets import fashion_mnist\n",
        "from keras.datasets import mnist\n",
        "import random"
      ]
    },
    {
      "cell_type": "code",
      "execution_count": 29,
      "metadata": {
        "id": "_r-v6VwxL8Fv"
      },
      "outputs": [],
      "source": [
        "(X_train1, y_train1), (X_test, y_test) = fashion_mnist.load_data()\n",
        "# X_train = X_train1[0:2000]/255\n",
        "# X_validation = X_train1[2001:2100]/255\n",
        "# y_train = y_train1[0:2000]\n",
        "# y_validation = y_train1[2001:2100]"
      ]
    },
    {
      "cell_type": "code",
      "source": [
        "kk = len(X_train1)\n",
        "xt = np.split(X_train1[0:kk], [int(len(X_train1[0:kk])*0.9)])\n",
        "yt = np.split(y_train1[0:kk], [int(len(y_train1[0:kk])*0.9)])\n",
        "X_train = xt[0]/255\n",
        "X_validation = xt[1]/255\n",
        "y_train = yt[0]\n",
        "y_validation = yt[1]"
      ],
      "metadata": {
        "id": "3MD36buWU3LY"
      },
      "execution_count": 86,
      "outputs": []
    },
    {
      "cell_type": "code",
      "source": [
        "# (X_train1, y_train1), (X_test, y_test) = fashion_mnist.load_data()\n",
        "# X_train = X_train1[0:40000]/255\n",
        "# X_validation = X_train1[40001:50000]/255\n",
        "# y_train = y_train1[0:40000]\n",
        "# y_validation = y_train1[40001:50000]"
      ],
      "metadata": {
        "id": "WrSZ7tUL-9_3"
      },
      "execution_count": 87,
      "outputs": []
    },
    {
      "cell_type": "code",
      "execution_count": 88,
      "metadata": {
        "id": "WW4OfOhmp427"
      },
      "outputs": [],
      "source": [
        "samples_for_print = [];\n",
        "unique_labels = np.unique(y_train)\n",
        "u_l = np.copy(unique_labels)\n",
        "\n",
        "while(len(unique_labels)>0):\n",
        "  for i in range (0, len(y_train)):\n",
        "    if(y_train[i] == unique_labels[0]):\n",
        "      samples_for_print.append(X_train[i])\n",
        "      unique_labels = np.setdiff1d(unique_labels,unique_labels[0])\n",
        "      break\n"
      ]
    },
    {
      "cell_type": "code",
      "execution_count": 89,
      "metadata": {
        "colab": {
          "base_uri": "https://localhost:8080/",
          "height": 196
        },
        "id": "RYVnrvSf6jRI",
        "outputId": "a6df95c8-edf7-4697-a387-e11d76850080"
      },
      "outputs": [
        {
          "output_type": "display_data",
          "data": {
            "text/plain": [
              "<Figure size 400x200 with 10 Axes>"
            ],
            "image/png": "[encoded data removed]"
          },
          "metadata": {}
        }
      ],
      "source": [
        "i = 1\n",
        "rows = 2\n",
        "cols = int(len(samples_for_print)/rows)\n",
        "plt.figure(figsize = (4,2))\n",
        "for img in samples_for_print:\n",
        "    plt.subplot(rows, cols, i)\n",
        "    plt.imshow(img, cmap='gray')\n",
        "    plt.title(u_l[i-1])\n",
        "    plt.tick_params(left = False, right = False , labelleft = False ,\n",
        "                labelbottom = False, bottom = False)\n",
        "    i = i+1\n",
        "plt.show()"
      ]
    },
    {
      "cell_type": "code",
      "execution_count": 90,
      "metadata": {
        "id": "qlez8ElJAxZJ"
      },
      "outputs": [],
      "source": [
        "from random import seed\n",
        "import random\n",
        "\n",
        "def init_random(n1, n2, init_mode, xav_std):\n",
        "  if init_mode == \"random\":\n",
        "    return [[np.random.normal(0,1) for i in range(n1)] for j in range(n2)]\n",
        "  elif init_mode == \"xavier\":\n",
        "    return [[np.random.normal(0,xav_std) for i in range(n1)] for j in range(n2)]\n",
        "\n",
        "def init_nn(n_inputs, n_layers, n_neurons, n_outputs, init_mode):\n",
        "  #print(\"in weight init\")\n",
        "  w = [0]*(n_layers+2)\n",
        "  biases = []\n",
        "  xavier_stddev = np.sqrt(2 / (n_inputs + n_outputs))\n",
        "  input_layer = init_random(n_inputs, n_neurons, init_mode, xavier_stddev)\n",
        "  w[1] = input_layer\n",
        "  biases.append([0])\n",
        "  biases.append(init_random(n_neurons, 1, init_mode, xavier_stddev)[0])\n",
        "  for i in range(2,n_layers+1):\n",
        "    hidden_layer = init_random(n_neurons, n_neurons, init_mode, xavier_stddev)\n",
        "    w[i] = hidden_layer\n",
        "    biases.append(init_random(n_neurons, 1, init_mode, xavier_stddev)[0])\n",
        "  output_layer = init_random(n_neurons, n_outputs, init_mode, xavier_stddev)\n",
        "  w[n_layers+1] = output_layer\n",
        "  biases.append(init_random(n_outputs, 1, init_mode, xavier_stddev)[0])\n",
        "  return w, biases\n",
        "\n"
      ]
    },
    {
      "cell_type": "code",
      "source": [
        "def sigmoid(x):\n",
        "  x = np.clip(x, -709.78, 709.78)\n",
        "  return 1. / (1.+np.exp(-x))\n",
        "\n",
        "def sigmoid_derivative(x):\n",
        "  x = np.clip(x, -709.78, 709.78)\n",
        "  return sigmoid(x) * (1-sigmoid(x))\n",
        "\n",
        "def Relu(x):\n",
        "  return np.maximum(0,x)\n",
        "\n",
        "def Relu_derivative(x):\n",
        "  return 1*(x>0)\n",
        "\n",
        "def tanh(x):\n",
        "  return np.tanh(x)\n",
        "\n",
        "def tanh_derivative(x):\n",
        "  return (1 - (np.tanh(x)**2))\n",
        "\n",
        "def softmax(x):\n",
        "  x = np.clip(x, -709.78, 709.78)\n",
        "  return np.exp(x) / np.sum(np.exp(x), axis=0)\n",
        "\n",
        "def softmax_derivative(x):\n",
        "  x = np.clip(x, -709.78, 709.78)\n",
        "  return softmax(x) * (1-softmax(x))\n",
        "\n",
        "def oneHotEncode(y_actual, n_outputs):\n",
        "  Ydata = np.zeros(n_outputs)\n",
        "  Ydata[int(y_actual)] = 1\n",
        "  return Ydata\n",
        "\n"
      ],
      "metadata": {
        "id": "RzrSpYTD3HpL"
      },
      "execution_count": 91,
      "outputs": []
    },
    {
      "cell_type": "code",
      "source": [
        "# def usigmoid(x):\n",
        "#   x = np.array(x, dtype=np.float128)\n",
        "#   return 1. / (1.+np.exp(-x))\n",
        "# x = np.array([1235, -1235])\n",
        "# usigmoid(x)"
      ],
      "metadata": {
        "id": "sBStcm1mbz32"
      },
      "execution_count": 92,
      "outputs": []
    },
    {
      "cell_type": "code",
      "execution_count": 93,
      "metadata": {
        "id": "NqZhCJsoR_pR"
      },
      "outputs": [],
      "source": [
        "\n",
        "def forward_prop(w, b, sample, n_layers, activation_f):\n",
        "  a = []\n",
        "  h = []\n",
        "  h.append(sample)\n",
        "  a.append([0])\n",
        "  for i in range(1, n_layers+1):\n",
        "    a.append(np.matmul(np.array(w[i]),np.array(h[i-1]))+b[i])\n",
        "    if activation_f == 'sigmoid':\n",
        "      h.append(sigmoid(a[i]))\n",
        "    elif activation_f == 'relu':\n",
        "      h.append(Relu(a[i]))\n",
        "    elif activation_f == 'tanh':\n",
        "      h.append(tanh(a[i]))\n",
        "  a.append(np.matmul(w[n_layers+1],h[n_layers])+b[n_layers+1])\n",
        "  y = softmax(a[n_layers+1])\n",
        "  return y, a, h\n",
        "\n"
      ]
    },
    {
      "cell_type": "code",
      "execution_count": 94,
      "metadata": {
        "id": "7eEvDrKlLnBP"
      },
      "outputs": [],
      "source": [
        "\n",
        "def backprop(y_hat, y_actual, a, h, w, b, activation_f, batch_size, loss, ud_lambda, n_outputs):\n",
        "\n",
        "    L = len(w)-1\n",
        "    gradient_a = [0]*(L+1)\n",
        "    gradient_w = [0]*(L+1)\n",
        "    gradient_b = [0]*(L+1)\n",
        "    gradient_h = [0]*(L+1)\n",
        "    y = oneHotEncode(y_actual, n_outputs)\n",
        "\n",
        "    if loss == 'crossentropy':\n",
        "      gradient_a[L] = y_hat-y\n",
        "    elif loss == 'mse':\n",
        "      gradient_a[L] = np.multiply(2 * (y_hat - y), np.multiply(y_hat, (1 - y_hat)))\n",
        "\n",
        "    for k in range(L,0,-1):\n",
        "      gradient_w[k] = (np.outer(gradient_a[k], h[k-1].transpose()))\n",
        "      gradient_b[k] = gradient_a[k]\n",
        "\n",
        "      if (k > 1):\n",
        "        if activation_f == 'sigmoid':\n",
        "          gradient_h[k-1] = np.matmul(np.array(w[k]).transpose(), np.array(gradient_a[k]))\n",
        "          gradient_a[k-1]  =np.array(gradient_h[k-1]) * np.array(sigmoid_derivative(a[k-1]))\n",
        "\n",
        "        elif activation_f == 'relu':\n",
        "          gradient_h[k-1] = np.matmul(np.array(w[k]).transpose(), np.array(gradient_a[k]))\n",
        "          gradient_a[k-1]  =np.array(gradient_h[k-1]) * np.array(Relu_derivative(a[k-1]))\n",
        "\n",
        "        elif activation_f == 'tanh':\n",
        "          gradient_h[k-1] = np.matmul(np.array(w[k]).transpose(), np.array(gradient_a[k]))\n",
        "          gradient_a[k-1]  =np.array(gradient_h[k-1]) * np.array(tanh_derivative(a[k-1]))\n",
        "\n",
        "    return gradient_w, gradient_b\n"
      ]
    },
    {
      "cell_type": "code",
      "source": [
        "def accuracy(x_data,y_data, w, b, n_layers, activation_f):\n",
        "  #print(\"in accuracy\")\n",
        "  count = 0\n",
        "  y_p = []\n",
        "  for x,y in zip(x_data,y_data):\n",
        "    sample = x.flatten()\n",
        "    y_hat, a_dum, h_dum = forward_prop(w, b, sample, n_layers, activation_f)\n",
        "    y_pred = np.argmax(y_hat, axis=0)\n",
        "    y_p.append(y_pred)\n",
        "    if y_pred == y:\n",
        "      count += 1\n",
        "  accuracy = count/len(y_data)\n",
        "  print(count)\n",
        "  return accuracy, y_p\n",
        "\n"
      ],
      "metadata": {
        "id": "8cnF26HUhBkl"
      },
      "execution_count": 95,
      "outputs": []
    },
    {
      "cell_type": "code",
      "source": [
        "\n",
        "\n",
        "def sgd(n_inputs, n_layers, n_neurons, n_outputs, activation_f, batch_size, loss, ud_lambda, eta, init_mode, w, b, use_wandb, max_epochs):\n",
        "  print(\"in sgd\")\n",
        "  L = len(w)-1\n",
        "  dw = [0]*(L+1)\n",
        "  db = [0]*(L+1)\n",
        "\n",
        "  for i in range(max_epochs):\n",
        "    print(\"epoch\", i)\n",
        "    for ii in range(1, n_layers+2):\n",
        "      dw[ii] = np.zeros_like(w[ii])\n",
        "      db[ii] = np.zeros_like(b[ii])\n",
        "    num_points_seen = 0\n",
        "    for x,y in zip(X_train, y_train):\n",
        "      sample = x.flatten()\n",
        "      y_hat, a, h = forward_prop(w, b, sample, n_layers, activation_f)\n",
        "      temp_dw, temp_db = backprop(y_hat, y, a, h, w, b, activation_f, batch_size, loss, ud_lambda, n_outputs)\n",
        "      #print(\"dw, db init happened\", np.array(dw[1]).shape)\n",
        "      num_points_seen = num_points_seen + 1\n",
        "      for j in range(1, n_layers+2):\n",
        "          dw[j] = dw[j]+ np.array(temp_dw[j])\n",
        "          db[j] = db[j]+ np.array(temp_db[j])\n",
        "      #print(num_points_seen)\n",
        "      if (num_points_seen % batch_size) == 0:\n",
        "        #print(\"update rule start: \", num_points_seen)\n",
        "        for j in range(1, n_layers+2):\n",
        "          w[j] = (w[j]-eta*dw[j])\n",
        "          b[j] = b[j]-eta*db[j]\n",
        "        #print(\"update rule end: \", num_points_seen)\n",
        "        for ii in range(1, n_layers+2):\n",
        "          dw[ii] = np.zeros_like(w[ii])\n",
        "          db[ii] = np.zeros_like(b[ii])\n",
        "\n",
        "  return w,b,a,h\n",
        "\n"
      ],
      "metadata": {
        "id": "syzVDFw4A3j2"
      },
      "execution_count": 96,
      "outputs": []
    },
    {
      "cell_type": "code",
      "source": [
        "\n",
        "\n",
        "def nadam(n_inputs, n_layers, n_neurons, n_outputs, activation_f, batch_size, loss, ud_lambda, eta, init_mode, w, b, use_wandb, max_epochs, beta1, beta2, eps):\n",
        "  print(\"in nadam\")\n",
        "  L = len(w)-1\n",
        "  dw = [0]*(L+1)\n",
        "  db = [0]*(L+1)\n",
        "  mw = [0]*(L+1)\n",
        "  mb = [0]*(L+1)\n",
        "  vw = [0]*(L+1)\n",
        "  vb = [0]*(L+1)\n",
        "  for ii in range(1, n_layers+2):\n",
        "    vw[ii] = np.zeros_like(w[ii])\n",
        "    vb[ii] = np.zeros_like(b[ii])\n",
        "    mw[ii] = np.zeros_like(w[ii])\n",
        "    mb[ii] = np.zeros_like(b[ii])\n",
        "\n",
        "  for i in range(max_epochs):\n",
        "    print(\"epoch\", i)\n",
        "    for ii in range(1, n_layers+2):\n",
        "      dw[ii] = np.zeros_like(w[ii])\n",
        "      db[ii] = np.zeros_like(b[ii])\n",
        "    num_points_seen = 0\n",
        "    for x,y in zip(X_train, y_train):\n",
        "      sample = x.flatten()\n",
        "      y_hat, a, h = forward_prop(w, b, sample, n_layers, activation_f)\n",
        "      temp_dw, temp_db = backprop(y_hat, y, a, h, w, b, activation_f, batch_size, loss, ud_lambda, n_outputs)\n",
        "      num_points_seen = num_points_seen + 1\n",
        "      for j in range(1, n_layers+2):\n",
        "          dw[j] = dw[j]+ np.array(temp_dw[j])\n",
        "          db[j] = db[j]+ np.array(temp_db[j])\n",
        "      #print(num_points_seen)\n",
        "      if (num_points_seen % batch_size) == 0:\n",
        "        #print(\"update rule start: \", num_points_seen)\n",
        "        for j in range(1, n_layers+2):\n",
        "          mw[j] = (beta1*mw[j] + (1-beta1)*dw[j])/(1-np.power(beta1, i+1))\n",
        "          mb[j] = (beta1*mb[j] + (1-beta1)*db[j])/(1-np.power(beta1, i+1))\n",
        "          vw[j] = (beta2*vw[j] + (1-beta2)*dw[j]**2) /(1-np.power(beta2, i+1))\n",
        "          vb[j] = (beta2*vb[j] + (1-beta2)*db[j]**2) /(1-np.power(beta2, i+1))\n",
        "\n",
        "          w[j] = w[j]- (eta/np.sqrt(vw[j]+eps)) * (beta1*mw[j]+(1-beta1)*dw[j]/(1-beta1**(i+1)))\n",
        "          b[j] = b[j]- (eta/np.sqrt(vb[j]+eps)) * (beta1*mb[j]+(1-beta1)*db[j]/(1-beta1**(i+1)))\n",
        "        #print(\"update rule end: \", num_points_seen)\n",
        "        for ii in range(1, n_layers+2):\n",
        "          dw[ii] = np.zeros_like(w[ii])\n",
        "          db[ii] = np.zeros_like(b[ii])\n",
        "\n",
        "  return w,b,a,h\n",
        "\n"
      ],
      "metadata": {
        "id": "yFraV6_C8N9k"
      },
      "execution_count": 97,
      "outputs": []
    },
    {
      "cell_type": "code",
      "source": [
        "\n",
        "\n",
        "def mgd(n_inputs, n_layers, n_neurons, n_outputs, activation_f, batch_size, loss, ud_lambda, eta, init_mode, w, b, max_epochs, momentum):\n",
        "  print(\"in mgd\")\n",
        "  L = len(w)-1\n",
        "  dw = [0]*(L+1)\n",
        "  db = [0]*(L+1)\n",
        "\n",
        "  prev_uw = [0]*(L+1)\n",
        "  prev_ub = [0]*(L+1)\n",
        "  uw = [0]*(L+1)\n",
        "  ub = [0]*(L+1)\n",
        "  for ii in range(1, n_layers+2):\n",
        "    prev_uw[ii] = np.zeros_like(w[ii])\n",
        "    prev_ub[ii] = np.zeros_like(b[ii])\n",
        "    uw[ii] = np.zeros_like(w[ii])\n",
        "    uw[ii] = np.zeros_like(b[ii])\n",
        "  for i in range(max_epochs):\n",
        "    print(\"epoch\", i)\n",
        "    for ii in range(1, n_layers+2):\n",
        "      dw[ii] = np.zeros_like(w[ii])\n",
        "      db[ii] = np.zeros_like(b[ii])\n",
        "    num_points_seen = 0\n",
        "    for x,y in zip(X_train, y_train):\n",
        "      sample = x.flatten()\n",
        "      y_hat, a, h = forward_prop(w, b, sample, n_layers, activation_f)\n",
        "      temp_dw, temp_db = backprop(y_hat, y, a, h, w, b, activation_f, batch_size, loss, ud_lambda, n_outputs)\n",
        "      num_points_seen = num_points_seen + 1\n",
        "      for j in range(1, n_layers+2):\n",
        "          dw[j] = dw[j]+ np.array(temp_dw[j])\n",
        "          db[j] = db[j]+ np.array(temp_db[j])\n",
        "      #print(num_points_seen)\n",
        "      if (num_points_seen % batch_size) == 0:\n",
        "        # print(\"update rule start: \", num_points_seen)\n",
        "        for j in range(1, n_layers+2):\n",
        "          uw[j] = momentum*prev_uw[j] + eta*dw[j]\n",
        "          ub[j] = momentum*prev_ub[j] + eta*db[j]\n",
        "          w[j] = (w[j]- uw[j])\n",
        "          b[j] = b[j]- ub[j]\n",
        "        for j in range(1, n_layers+2):\n",
        "          prev_uw[j] = uw[j]\n",
        "          prev_ub[j] = ub[j]\n",
        "        # print(\"update rule end: \", num_points_seen)\n",
        "        for ii in range(1, n_layers+2):\n",
        "          dw[ii] = np.zeros_like(w[ii])\n",
        "          db[ii] = np.zeros_like(b[ii])\n",
        "\n",
        "  return w,b,a,h\n",
        "\n"
      ],
      "metadata": {
        "id": "QZNM7XkLXnje"
      },
      "execution_count": 98,
      "outputs": []
    },
    {
      "cell_type": "code",
      "source": [
        "\n",
        "\n",
        "def nag(n_inputs, n_layers, n_neurons, n_outputs, activation_f, batch_size, loss, ud_lambda, eta, init_mode, w, b, use_wandb, max_epochs, momentum):\n",
        "  print(\"in nag\")\n",
        "  L = len(w)-1\n",
        "  prev_vw = [0]*(L+1)\n",
        "  prev_vb = [0]*(L+1)\n",
        "  wt = [0]*(L+1)\n",
        "  bt = [0]*(L+1)\n",
        "  vw = [0]*(L+1)\n",
        "  vb = [0]*(L+1)\n",
        "  dw = [0]*(L+1)\n",
        "  db = [0]*(L+1)\n",
        "  for ii in range(1, n_layers+2):\n",
        "    prev_vw[ii] = np.zeros_like(w[ii])\n",
        "    prev_vb[ii] = np.zeros_like(b[ii])\n",
        "\n",
        "  for i in range(max_epochs):\n",
        "    print(\"epoch\", i)\n",
        "    for ii in range(1, n_layers+2):\n",
        "      dw[ii] = np.zeros_like(w[ii])\n",
        "      db[ii] = np.zeros_like(b[ii])\n",
        "\n",
        "    for jj in range(1, n_layers+2):\n",
        "        vw[jj] = momentum*prev_vw[jj]\n",
        "        vb[jj] = momentum*prev_vb[jj]\n",
        "    num_points_seen = 0\n",
        "    for x,y in zip(X_train, y_train):\n",
        "      sample = x.flatten()\n",
        "      for jk in range(1, n_layers+2):\n",
        "        wt[jk] = w[jk] - vw[jk]\n",
        "        bt[jk] = b[jk] - vb[jk]\n",
        "      y_hat, a, h = forward_prop(wt, bt, sample, n_layers, activation_f)\n",
        "      temp_dw, temp_db = backprop(y_hat, y, a, h, wt, bt, activation_f, batch_size, loss, ud_lambda, n_outputs)\n",
        "      num_points_seen = num_points_seen + 1\n",
        "      for jjk in range(1, n_layers+2):\n",
        "          dw[jjk] = dw[jjk]+ np.array(temp_dw[jjk])\n",
        "          db[jjk] = db[jjk]+ np.array(temp_db[jjk])\n",
        "      #print(num_points_seen)\n",
        "      if (num_points_seen % batch_size) == 0:\n",
        "        # print(\"update rule start: \", num_points_seen)\n",
        "        for j in range(1, n_layers+2):\n",
        "          vw[j] = momentum*prev_vw[j] + eta*dw[j]\n",
        "          vb[j] = momentum*prev_vb[j] + eta*db[j]\n",
        "          w[j] = (w[j]- vw[j])\n",
        "          b[j] = b[j]- vb[j]\n",
        "        for j in range(1, n_layers+2):\n",
        "          prev_vw[j] = vw[j]\n",
        "          prev_vb[j] = vb[j]\n",
        "        # print(\"update rule end: \", num_points_seen)\n",
        "        for ii in range(1, n_layers+2):\n",
        "          dw[ii] = np.zeros_like(w[ii])\n",
        "          db[ii] = np.zeros_like(b[ii])\n",
        "\n",
        "  return w,b,a,h\n",
        "\n"
      ],
      "metadata": {
        "id": "MMm6NrETaM_v"
      },
      "execution_count": 99,
      "outputs": []
    },
    {
      "cell_type": "code",
      "source": [
        "\n",
        "\n",
        "def rmsprop(n_inputs, n_layers, n_neurons, n_outputs, activation_f, batch_size, loss, ud_lambda, eta, init_mode, w, b, use_wandb, max_epochs, beta, eps):\n",
        "  print(\"in rmsprop\")\n",
        "  L = len(w)-1\n",
        "  vw = [0]*(L+1)\n",
        "  vb = [0]*(L+1)\n",
        "  dw = [0]*(L+1)\n",
        "  db = [0]*(L+1)\n",
        "  for ii in range(1, n_layers+2):\n",
        "    vw[ii] = np.zeros_like(w[ii])\n",
        "    vb[ii] = np.zeros_like(b[ii])\n",
        "\n",
        "  for i in range(max_epochs):\n",
        "    print(\"epoch\", i)\n",
        "    for ii in range(1, n_layers+2):\n",
        "      dw[ii] = np.zeros_like(w[ii])\n",
        "      db[ii] = np.zeros_like(b[ii])\n",
        "\n",
        "    num_points_seen = 0\n",
        "    for x,y in zip(X_train, y_train):\n",
        "      sample = x.flatten()\n",
        "      y_hat, a, h = forward_prop(w, b, sample, n_layers, activation_f)\n",
        "      temp_dw, temp_db = backprop(y_hat, y, a, h, w, b, activation_f, batch_size, loss, ud_lambda, n_outputs)\n",
        "\n",
        "      num_points_seen = num_points_seen + 1\n",
        "      for j in range(1, n_layers+2):\n",
        "          dw[j] = dw[j]+ np.array(temp_dw[j])\n",
        "          db[j] = db[j]+ np.array(temp_db[j])\n",
        "      #print(num_points_seen)\n",
        "      if (num_points_seen % batch_size) == 0:\n",
        "        # print(\"update rule start: \", num_points_seen)\n",
        "        for j in range(1, n_layers+2):\n",
        "          vw[j] = beta*vw[j] + (1-beta)*dw[j]**2\n",
        "          vb[j] = beta*vb[j] + (1-beta)*db[j]**2\n",
        "          w[j] = (w[j]- eta*dw[j]/(np.sqrt(vw[j]+eps)))\n",
        "          b[j] = (b[j]- eta*db[j]/(np.sqrt(vb[j]+eps)))\n",
        "        # print(\"update rule end: \", num_points_seen)\n",
        "        for ii in range(1, n_layers+2):\n",
        "          dw[ii] = np.zeros_like(w[ii])\n",
        "          db[ii] = np.zeros_like(b[ii])\n",
        "\n",
        "  return w,b,a,h\n",
        "\n"
      ],
      "metadata": {
        "id": "2vJw-ASotZ8Z"
      },
      "execution_count": 100,
      "outputs": []
    },
    {
      "cell_type": "code",
      "source": [
        "\n",
        "\n",
        "def adam(n_inputs, n_layers, n_neurons, n_outputs, activation_f, batch_size, loss, ud_lambda, eta, init_mode, w, b, use_wandb, max_epochs, beta1, beta2, eps):\n",
        "  print(\"in adam\")\n",
        "  L = len(w)-1\n",
        "  mw = [0]*(L+1)\n",
        "  mb = [0]*(L+1)\n",
        "  vw = [0]*(L+1)\n",
        "  vb = [0]*(L+1)\n",
        "  dw = [0]*(L+1)\n",
        "  db = [0]*(L+1)\n",
        "  for ii in range(1, n_layers+2):\n",
        "    vw[ii] = np.zeros_like(w[ii])\n",
        "    vb[ii] = np.zeros_like(b[ii])\n",
        "    mw[ii] = np.zeros_like(w[ii])\n",
        "    mb[ii] = np.zeros_like(b[ii])\n",
        "\n",
        "  for i in range(max_epochs):\n",
        "    print(\"epoch\", i)\n",
        "    for ii in range(1, n_layers+2):\n",
        "      dw[ii] = np.zeros_like(w[ii])\n",
        "      db[ii] = np.zeros_like(b[ii])\n",
        "    num_points_seen = 0\n",
        "    for x,y in zip(X_train, y_train):\n",
        "      sample = x.flatten()\n",
        "      y_hat, a, h = forward_prop(w, b, sample, n_layers, activation_f)\n",
        "      temp_dw, temp_db = backprop(y_hat, y, a, h, w, b, activation_f, batch_size, loss, ud_lambda, n_outputs)\n",
        "\n",
        "      num_points_seen = num_points_seen + 1\n",
        "      for jk in range(1, n_layers+2):\n",
        "          dw[jk] = dw[jk]+ np.array(temp_dw[jk])\n",
        "          db[jk] = db[jk]+ np.array(temp_db[jk])\n",
        "      #print(num_points_seen)\n",
        "      if (num_points_seen % batch_size) == 0:\n",
        "        # print(\"update rule start: \", num_points_seen)\n",
        "        for j in range(1, n_layers+2):\n",
        "          mw[j] = (beta1*mw[j] + (1-beta1)*dw[j])/(1-np.power(beta1, i+1) )\n",
        "          mb[j] = (beta1*mb[j] + (1-beta1)*db[j])/(1-np.power(beta1, i+1) )\n",
        "          vw[j] = (beta2*vw[j] + (1-beta2)*dw[j]**2) /(1-np.power(beta2, i+1))\n",
        "          vb[j] = (beta2*vb[j] + (1-beta2)*db[j]**2) /(1-np.power(beta2, i+1))\n",
        "          w[j] = w[j]- (eta*mw[j]/(np.sqrt(vw[j]+eps)))\n",
        "          b[j] = b[j]- (eta*mb[j]/(np.sqrt(vb[j]+eps)))\n",
        "        # print(\"update rule end: \", num_points_seen)\n",
        "        for ii in range(1, n_layers+2):\n",
        "          dw[ii] = np.zeros_like(w[ii])\n",
        "          db[ii] = np.zeros_like(b[ii])\n",
        "\n",
        "  return w,b,a,h\n",
        "\n"
      ],
      "metadata": {
        "id": "5caEbyeDxKLq"
      },
      "execution_count": 101,
      "outputs": []
    },
    {
      "cell_type": "code",
      "source": [
        "# seed(29)\n",
        "# n_inputs = 784\n",
        "# n_layers = 1\n",
        "# n_neurons = 12\n",
        "# n_outputs = 10\n",
        "# init_mode = \"xavier\"\n",
        "# w,b = init_nn(n_inputs, n_layers, n_neurons, n_outputs, init_mode)\n",
        "# w_old = w.copy()\n",
        "# b_old = b.copy()\n",
        "\n",
        "# eta = 0.001\n",
        "# activation_f = \"tanh\"\n",
        "# batch_size = 1024\n",
        "# loss = \"crossentropy\"\n",
        "# ud_lambda = 0.0001\n",
        "# beta = 0.9\n",
        "# beta1 = 0.9\n",
        "# beta2 = 0.99\n",
        "# eps = 1e-10\n",
        "# max_epochs = 2\n",
        "# momentum = 0.9\n",
        "\n",
        "# #print(\"before sgd  call\")\n",
        "# #w_n,b_n, a_n, h_n = sgd(n_inputs, n_layers, n_neurons, n_outputs, activation_f, batch_size, loss, ud_lambda, eta, init_mode, w, b, use_wandb=True)\n",
        "# #w_n,b_n, a_n, h_n = mgd(n_inputs, n_layers, n_neurons, n_outputs, activation_f, batch_size, loss, ud_lambda, eta, init_mode, w, b, max_epochs, momentum)\n",
        "# #w_n,b_n, a_n, h_n = nag(n_inputs, n_layers, n_neurons, n_outputs, activation_f, batch_size, loss, ud_lambda, eta, init_mode, w, b, True, max_epochs, momentum)\n",
        "# #w_n,b_n, a_n, h_n = rmsprop(n_inputs, n_layers, n_neurons, n_outputs, activation_f, batch_size, loss, ud_lambda, eta, init_mode, w, b, True, max_epochs, beta, eps)\n",
        "# #w_n,b_n, a_n, h_n = adam(n_inputs, n_layers, n_neurons, n_outputs, activation_f, batch_size, loss, ud_lambda, eta, init_mode, w, b, True, max_epochs, beta1, beta2, eps)\n",
        "# w_n,b_n, a_n, h_n = nadam(n_inputs, n_layers, n_neurons, n_outputs, activation_f, batch_size, loss, ud_lambda, eta, init_mode, w, b, True, max_epochs, beta1, beta2, eps)\n",
        "# train_accuracy, yp = accuracy(X_train, y_train, w_n, b_n, n_layers)\n",
        "# validation_accuracy, yp = accuracy(X_validation, y_validation, w_n, b_n, n_layers)\n",
        "# print(train_accuracy)\n",
        "# print(validation_accuracy)\n"
      ],
      "metadata": {
        "id": "X7Sou9GJ9yCy"
      },
      "execution_count": 102,
      "outputs": []
    },
    {
      "cell_type": "code",
      "source": [
        "# aa = np.array([[1,2],[3,4]])\n",
        "# aa**2"
      ],
      "metadata": {
        "id": "Zwdz96s764PA"
      },
      "execution_count": 103,
      "outputs": []
    },
    {
      "cell_type": "code",
      "source": [
        "  # import numpy as np\n",
        "  # w = [[],[[2,3],[2,3], [4,5]],[[2,3],[2,3]]]\n",
        "  # b = [[],[1,1],[1,1]]\n",
        "  # L = len(w)-1\n",
        "  # vw = [0]*(L+1)\n",
        "  # vb = [0]*(L+1)\n",
        "  # for ii in range(1, 1+2):\n",
        "  #   vw[ii] = np.zeros_like(w[ii])\n",
        "  #   vb[ii] = np.zeros_like(b[ii])\n",
        "  #   print(vw[ii].shape)"
      ],
      "metadata": {
        "id": "7zqIVRdWwF8K"
      },
      "execution_count": 104,
      "outputs": []
    },
    {
      "cell_type": "code",
      "source": [
        "sweep_config = {\"name\": \"complete-sweep-6dw\", \"method\": \"random\"}\n",
        "sweep_config[\"metric\"] = {\"name\": \"validation_acc\", \"goal\": \"maximize\"}\n",
        "parameters_dict = {\n",
        "                \"num_epochs\": {\"values\": [2, 3, 4, 5]}, \\\n",
        "                \"num_hidden_layers\": {\"values\": [2, 3, 4]}, \\\n",
        "                \"size_hidden_layer\": {\"values\": [16, 32, 64, 128]}, \\\n",
        "                \"learning_rate\": {\"values\": [ 1e-2, 1e-3, 1e-4]}, \\\n",
        "                \"optimizer\": {\"values\": [\"sgd\", \"adam\", \"mgd\", \"nadam\", \"rmsprop\", \"nag\"]}, \\\n",
        "                \"batch_size\": {\"values\": [32, 64, 128]}, \\\n",
        "                \"weight_init\": {\"values\": [\"random\", \"xavier\"]} , \\\n",
        "                \"activation\": {\"values\": [\"sigmoid\", \"tanh\", \"relu\"]}, \\\n",
        "                \"loss\": {\"values\": [\"crossentropy\"]}, \\\n",
        "                \"reg_lambda\": {\"values\": [0.001, 0.0005, 0]}, \\\n",
        "                  }\n",
        "sweep_config[\"parameters\"] = parameters_dict"
      ],
      "metadata": {
        "id": "__Aujgt-46Dm"
      },
      "execution_count": 105,
      "outputs": []
    },
    {
      "cell_type": "code",
      "source": [
        "def train_nn(config = sweep_config):\n",
        "  with wandb.init(config = config):\n",
        "    config = wandb.config\n",
        "    wandb.run.name = \"e_{}_hl_{}_opt_{}_bs_{}_init_{}_ac_{}_loss_{}\".format(config.num_epochs,\\\n",
        "                                                                  config.num_hidden_layers,\\\n",
        "                                                                  config.size_hidden_layer,\\\n",
        "                                                                  config.learning_rate,\\\n",
        "                                                                  config.optimizer,\\\n",
        "                                                                  config.batch_size,\\\n",
        "                                                                  config.weight_init,\\\n",
        "                                                                  config.activation,\\\n",
        "                                                                  config.loss,\\\n",
        "                                                                  config.reg_lambda)\n",
        "\n",
        "    seed(42)\n",
        "    n_inputs = 784\n",
        "    n_layers = config.num_hidden_layers\n",
        "    n_neurons = config.size_hidden_layer\n",
        "    n_outputs = 10\n",
        "    init_mode = config.weight_init\n",
        "    w,b = init_nn(n_inputs, n_layers, n_neurons, n_outputs, init_mode)\n",
        "    w_old = w.copy()\n",
        "    b_old = b.copy()\n",
        "\n",
        "    eta = config.learning_rate\n",
        "    activation_f = config.activation\n",
        "    batch_size = config.batch_size\n",
        "    loss = config.loss\n",
        "    ud_lambda = config.reg_lambda\n",
        "    optimizer = config.optimizer\n",
        "\n",
        "    beta = 0.9\n",
        "    beta1 = 0.9\n",
        "    beta2 = 0.999\n",
        "\n",
        "    eps = 1e-9\n",
        "    max_epochs = config.num_epochs\n",
        "    momentum = 0.9\n",
        "\n",
        "    if optimizer == \"sgd\":\n",
        "      w_n,b_n, a_n, h_n = sgd(n_inputs, n_layers, n_neurons, n_outputs, activation_f, batch_size, loss, ud_lambda, eta, init_mode, w, b, True, max_epochs)\n",
        "    elif optimizer == \"mgd\":\n",
        "      w_n,b_n, a_n, h_n = mgd(n_inputs, n_layers, n_neurons, n_outputs, activation_f, batch_size, loss, ud_lambda, eta, init_mode, w, b, max_epochs, momentum)\n",
        "    elif optimizer == \"nag\":\n",
        "      w_n,b_n, a_n, h_n = nag(n_inputs, n_layers, n_neurons, n_outputs, activation_f, batch_size, loss, ud_lambda, eta, init_mode, w, b, True, max_epochs, momentum)\n",
        "    elif optimizer == \"rmsprop\":\n",
        "      w_n,b_n, a_n, h_n = rmsprop(n_inputs, n_layers, n_neurons, n_outputs, activation_f, batch_size, loss, ud_lambda, eta, init_mode, w, b, True, max_epochs, beta, eps)\n",
        "    elif optimizer == \"adam\":\n",
        "      w_n,b_n, a_n, h_n = adam(n_inputs, n_layers, n_neurons, n_outputs, activation_f, batch_size, loss, ud_lambda, eta, init_mode, w, b, True, max_epochs, beta1, beta2, eps)\n",
        "    elif optimizer == \"nadam\":\n",
        "      w_n,b_n, a_n, h_n = nadam(n_inputs, n_layers, n_neurons, n_outputs, activation_f, batch_size, loss, ud_lambda, eta, init_mode, w, b, True, max_epochs, beta1, beta2, eps)\n",
        "\n",
        "\n",
        "    train_accuracy, yp = accuracy(X_train, y_train, w_n, b_n, n_layers, activation_f)\n",
        "    validation_accuracy, yp = accuracy(X_validation, y_validation, w_n, b_n, n_layers, activation_f)\n",
        "    test_accuracy, ytp = accuracy(X_test, y_test, w_n, b_n, n_layers, activation_f)\n",
        "\n",
        "\n",
        "    wandb.log({\"train_acc\": train_accuracy, \\\n",
        "               \"validation_acc\": validation_accuracy, \\\n",
        "                \"test_acc\": test_accuracy, \\\n",
        "                })\n",
        "    print(\"accu: \", validation_accuracy)\n",
        "\n",
        "\n",
        "####################################################################\n",
        "sweep_id = wandb.sweep(sweep_config, project = \"Assignment1\")\n",
        "wandb.agent(sweep_id, function = train_nn, count=6)\n",
        "wandb.finish()\n"
      ],
      "metadata": {
        "colab": {
          "base_uri": "https://localhost:8080/",
          "height": 1000,
          "referenced_widgets": [
            "1619418f08494243a5cebac7da1c979e",
            "70387709f3ad4a6bb95de8ac56896d73",
            "bf1333a5efba4f9db9f46a4853f88ef6",
            "84e12c9f0b3946ea81f7f5eb9b7dcd63",
            "b5ac94079a314acc80ff1a5bedb0333b",
            "32e734b74271458d914e4e132aa0107f",
            "2cf1a6cf80e04fd49473e68d8c1ca449",
            "55a9356000754cf1b5e39bef7c13a648",
            "b05c6befa0654bd296326762ad4be6a9",
            "3fbb80491e2e4bd8842372390df7ddf0",
            "313f65980d64423b8f190a77fe0e69d2",
            "af7b4a8933e74b76a5c4590e50e3a2fc",
            "41ea6f3e83904e1d98aac0899194bd63",
            "3edc62d42ebb4e0bab6d95ecc8d4a477",
            "6e2ebc4239c74ee5a759b3b11aadca18",
            "b71ec2ba788e4e449e07bd3bd72b0bbf",
            "a3a15b86131040a9a0e9723c656418b4",
            "33cb94302e814f4cba764bbd37a077a4",
            "3240dee6e83e400eb50cff8b6134cb98",
            "0f3de40710b54e078acaaff0f9f6053a",
            "c82b350297bb4ea28b9d84508afa3f5e",
            "f35da3fba9f94a9886339e49b007a59f",
            "02e6c9dc78b2443cab6108adab295022",
            "494f33d844564549b2c4a2efa9f46548",
            "654b1c4f33744bc19d9bdff67a539414",
            "5ac0a9b61de646ae9ebd26a0f2698cf5",
            "f3b1d07d65fe433c9df18b97c7006cfb",
            "311e810069e944edbc43602d67cdc140",
            "04b6632bc52645dc995b6d0c933c9a9a",
            "a78324a87cf84943ac1ec3cde0f76cec",
            "fea5a577123d413b846a47decad7b34a",
            "543cbd7900f14eb5ba89f3e32abf8202",
            "58d37f354c3046c58dac5746a228cb23",
            "86a94cb0ec464972b02b08a1b0a35b14",
            "c24d9f31b97a4bfd84856f97105159d2",
            "66ea944810714ee29a17f787bd1464ba",
            "7f0c2c7eefb74b45a0131b3ddc23023e",
            "cb04ec18458346e48ac5d6fbfb6695e2",
            "fff7bcff2b3f47a98a6b325fc75fcf90",
            "e8b1cd27f53f4bbdba3e19dbf0abbf72",
            "b9a140481740403d8f2b101a555c8b32",
            "27efbef98b234b81864dfb790a135969",
            "d615b51f73a146acad14ccfc962f7a5f",
            "6da80d6df6254d82949857289fbd1c6a",
            "cf6d0f8a6981480e82f556205767adef",
            "43bc5c84a88d4811ada9e1438565f274",
            "068019072a534874b80861ae4d20e405",
            "87508f25e75c4f858c9df335b165095d"
          ]
        },
        "id": "6gH9a3VF5-wa",
        "outputId": "72450102-d20a-4306-a906-b9169c959461"
      },
      "execution_count": 106,
      "outputs": [
        {
          "output_type": "stream",
          "name": "stdout",
          "text": [
            "Create sweep with ID: ra351dwp\n",
            "Sweep URL: https://wandb.ai/cs23m005/Assignment1/sweeps/ra351dwp\n"
          ]
        },
        {
          "output_type": "stream",
          "name": "stderr",
          "text": [
            "\u001b[34m\u001b[1mwandb\u001b[0m: Agent Starting Run: kgpsuyux with config:\n",
            "\u001b[34m\u001b[1mwandb\u001b[0m: \tactivation: tanh\n",
            "\u001b[34m\u001b[1mwandb\u001b[0m: \tbatch_size: 128\n",
            "\u001b[34m\u001b[1mwandb\u001b[0m: \tlearning_rate: 0.001\n",
            "\u001b[34m\u001b[1mwandb\u001b[0m: \tloss: crossentropy\n",
            "\u001b[34m\u001b[1mwandb\u001b[0m: \tnum_epochs: 5\n",
            "\u001b[34m\u001b[1mwandb\u001b[0m: \tnum_hidden_layers: 4\n",
            "\u001b[34m\u001b[1mwandb\u001b[0m: \toptimizer: sgd\n",
            "\u001b[34m\u001b[1mwandb\u001b[0m: \treg_lambda: 0.001\n",
            "\u001b[34m\u001b[1mwandb\u001b[0m: \tsize_hidden_layer: 16\n",
            "\u001b[34m\u001b[1mwandb\u001b[0m: \tweight_init: xavier\n"
          ]
        },
        {
          "output_type": "display_data",
          "data": {
            "text/plain": [
              "<IPython.core.display.HTML object>"
            ],
            "text/html": [
              "Tracking run with wandb version 0.16.4"
            ]
          },
          "metadata": {}
        },
        {
          "output_type": "display_data",
          "data": {
            "text/plain": [
              "<IPython.core.display.HTML object>"
            ],
            "text/html": [
              "Run data is saved locally in <code>/content/wandb/run-20240317_081745-kgpsuyux</code>"
            ]
          },
          "metadata": {}
        },
        {
          "output_type": "display_data",
          "data": {
            "text/plain": [
              "<IPython.core.display.HTML object>"
            ],
            "text/html": [
              "Syncing run <strong><a href='https://wandb.ai/cs23m005/Assignment1/runs/kgpsuyux' target=\"_blank\">expert-sweep-1</a></strong> to <a href='https://wandb.ai/cs23m005/Assignment1' target=\"_blank\">Weights & Biases</a> (<a href='https://wandb.me/run' target=\"_blank\">docs</a>)<br/>Sweep page: <a href='https://wandb.ai/cs23m005/Assignment1/sweeps/ra351dwp' target=\"_blank\">https://wandb.ai/cs23m005/Assignment1/sweeps/ra351dwp</a>"
            ]
          },
          "metadata": {}
        },
        {
          "output_type": "display_data",
          "data": {
            "text/plain": [
              "<IPython.core.display.HTML object>"
            ],
            "text/html": [
              " View project at <a href='https://wandb.ai/cs23m005/Assignment1' target=\"_blank\">https://wandb.ai/cs23m005/Assignment1</a>"
            ]
          },
          "metadata": {}
        },
        {
          "output_type": "display_data",
          "data": {
            "text/plain": [
              "<IPython.core.display.HTML object>"
            ],
            "text/html": [
              " View sweep at <a href='https://wandb.ai/cs23m005/Assignment1/sweeps/ra351dwp' target=\"_blank\">https://wandb.ai/cs23m005/Assignment1/sweeps/ra351dwp</a>"
            ]
          },
          "metadata": {}
        },
        {
          "output_type": "display_data",
          "data": {
            "text/plain": [
              "<IPython.core.display.HTML object>"
            ],
            "text/html": [
              " View run at <a href='https://wandb.ai/cs23m005/Assignment1/runs/kgpsuyux' target=\"_blank\">https://wandb.ai/cs23m005/Assignment1/runs/kgpsuyux</a>"
            ]
          },
          "metadata": {}
        },
        {
          "output_type": "stream",
          "name": "stdout",
          "text": [
            "in sgd\n",
            "epoch 0\n",
            "epoch 1\n",
            "epoch 2\n",
            "epoch 3\n",
            "epoch 4\n",
            "39059\n",
            "4312\n",
            "7181\n",
            "accu:  0.7186666666666667\n"
          ]
        },
        {
          "output_type": "display_data",
          "data": {
            "text/plain": [
              "VBox(children=(Label(value='0.001 MB of 0.001 MB uploaded\\r'), FloatProgress(value=1.0, max=1.0)))"
            ],
            "application/vnd.jupyter.widget-view+json": {
              "version_major": 2,
              "version_minor": 0,
              "model_id": "1619418f08494243a5cebac7da1c979e"
            }
          },
          "metadata": {}
        },
        {
          "output_type": "display_data",
          "data": {
            "text/plain": [
              "<IPython.core.display.HTML object>"
            ],
            "text/html": [
              "<style>\n",
              "    table.wandb td:nth-child(1) { padding: 0 10px; text-align: left ; width: auto;} td:nth-child(2) {text-align: left ; width: 100%}\n",
              "    .wandb-row { display: flex; flex-direction: row; flex-wrap: wrap; justify-content: flex-start; width: 100% }\n",
              "    .wandb-col { display: flex; flex-direction: column; flex-basis: 100%; flex: 1; padding: 10px; }\n",
              "    </style>\n",
              "<div class=\"wandb-row\"><div class=\"wandb-col\"><h3>Run history:</h3><br/><table class=\"wandb\"><tr><td>test_acc</td><td>▁</td></tr><tr><td>train_acc</td><td>▁</td></tr><tr><td>validation_acc</td><td>▁</td></tr></table><br/></div><div class=\"wandb-col\"><h3>Run summary:</h3><br/><table class=\"wandb\"><tr><td>test_acc</td><td>0.7181</td></tr><tr><td>train_acc</td><td>0.72331</td></tr><tr><td>validation_acc</td><td>0.71867</td></tr></table><br/></div></div>"
            ]
          },
          "metadata": {}
        },
        {
          "output_type": "display_data",
          "data": {
            "text/plain": [
              "<IPython.core.display.HTML object>"
            ],
            "text/html": [
              " View run <strong style=\"color:#cdcd00\">expert-sweep-1</strong> at: <a href='https://wandb.ai/cs23m005/Assignment1/runs/kgpsuyux' target=\"_blank\">https://wandb.ai/cs23m005/Assignment1/runs/kgpsuyux</a><br/>Synced 5 W&B file(s), 0 media file(s), 0 artifact file(s) and 0 other file(s)"
            ]
          },
          "metadata": {}
        },
        {
          "output_type": "display_data",
          "data": {
            "text/plain": [
              "<IPython.core.display.HTML object>"
            ],
            "text/html": [
              "Find logs at: <code>./wandb/run-20240317_081745-kgpsuyux/logs</code>"
            ]
          },
          "metadata": {}
        },
        {
          "output_type": "stream",
          "name": "stderr",
          "text": [
            "\u001b[34m\u001b[1mwandb\u001b[0m: Agent Starting Run: wmpd9xf0 with config:\n",
            "\u001b[34m\u001b[1mwandb\u001b[0m: \tactivation: tanh\n",
            "\u001b[34m\u001b[1mwandb\u001b[0m: \tbatch_size: 32\n",
            "\u001b[34m\u001b[1mwandb\u001b[0m: \tlearning_rate: 0.01\n",
            "\u001b[34m\u001b[1mwandb\u001b[0m: \tloss: crossentropy\n",
            "\u001b[34m\u001b[1mwandb\u001b[0m: \tnum_epochs: 2\n",
            "\u001b[34m\u001b[1mwandb\u001b[0m: \tnum_hidden_layers: 2\n",
            "\u001b[34m\u001b[1mwandb\u001b[0m: \toptimizer: nadam\n",
            "\u001b[34m\u001b[1mwandb\u001b[0m: \treg_lambda: 0\n",
            "\u001b[34m\u001b[1mwandb\u001b[0m: \tsize_hidden_layer: 16\n",
            "\u001b[34m\u001b[1mwandb\u001b[0m: \tweight_init: random\n"
          ]
        },
        {
          "output_type": "display_data",
          "data": {
            "text/plain": [
              "<IPython.core.display.HTML object>"
            ],
            "text/html": [
              "Tracking run with wandb version 0.16.4"
            ]
          },
          "metadata": {}
        },
        {
          "output_type": "display_data",
          "data": {
            "text/plain": [
              "<IPython.core.display.HTML object>"
            ],
            "text/html": [
              "Run data is saved locally in <code>/content/wandb/run-20240317_081943-wmpd9xf0</code>"
            ]
          },
          "metadata": {}
        },
        {
          "output_type": "display_data",
          "data": {
            "text/plain": [
              "<IPython.core.display.HTML object>"
            ],
            "text/html": [
              "Syncing run <strong><a href='https://wandb.ai/cs23m005/Assignment1/runs/wmpd9xf0' target=\"_blank\">sage-sweep-2</a></strong> to <a href='https://wandb.ai/cs23m005/Assignment1' target=\"_blank\">Weights & Biases</a> (<a href='https://wandb.me/run' target=\"_blank\">docs</a>)<br/>Sweep page: <a href='https://wandb.ai/cs23m005/Assignment1/sweeps/ra351dwp' target=\"_blank\">https://wandb.ai/cs23m005/Assignment1/sweeps/ra351dwp</a>"
            ]
          },
          "metadata": {}
        },
        {
          "output_type": "display_data",
          "data": {
            "text/plain": [
              "<IPython.core.display.HTML object>"
            ],
            "text/html": [
              " View project at <a href='https://wandb.ai/cs23m005/Assignment1' target=\"_blank\">https://wandb.ai/cs23m005/Assignment1</a>"
            ]
          },
          "metadata": {}
        },
        {
          "output_type": "display_data",
          "data": {
            "text/plain": [
              "<IPython.core.display.HTML object>"
            ],
            "text/html": [
              " View sweep at <a href='https://wandb.ai/cs23m005/Assignment1/sweeps/ra351dwp' target=\"_blank\">https://wandb.ai/cs23m005/Assignment1/sweeps/ra351dwp</a>"
            ]
          },
          "metadata": {}
        },
        {
          "output_type": "display_data",
          "data": {
            "text/plain": [
              "<IPython.core.display.HTML object>"
            ],
            "text/html": [
              " View run at <a href='https://wandb.ai/cs23m005/Assignment1/runs/wmpd9xf0' target=\"_blank\">https://wandb.ai/cs23m005/Assignment1/runs/wmpd9xf0</a>"
            ]
          },
          "metadata": {}
        },
        {
          "output_type": "stream",
          "name": "stdout",
          "text": [
            "in nadam\n",
            "epoch 0\n"
          ]
        },
        {
          "output_type": "stream",
          "name": "stderr",
          "text": [
            "<ipython-input-97-a1372c04f788>:36: RuntimeWarning: overflow encountered in divide\n",
            "  vw[j] = (beta2*vw[j] + (1-beta2)*dw[j]**2) /(1-np.power(beta2, i+1))\n",
            "<ipython-input-97-a1372c04f788>:37: RuntimeWarning: overflow encountered in divide\n",
            "  vb[j] = (beta2*vb[j] + (1-beta2)*db[j]**2) /(1-np.power(beta2, i+1))\n",
            "<ipython-input-97-a1372c04f788>:34: RuntimeWarning: overflow encountered in divide\n",
            "  mw[j] = (beta1*mw[j] + (1-beta1)*dw[j])/(1-np.power(beta1, i+1))\n",
            "<ipython-input-97-a1372c04f788>:35: RuntimeWarning: overflow encountered in divide\n",
            "  mb[j] = (beta1*mb[j] + (1-beta1)*db[j])/(1-np.power(beta1, i+1))\n",
            "<ipython-input-97-a1372c04f788>:39: RuntimeWarning: invalid value encountered in multiply\n",
            "  w[j] = w[j]- (eta/np.sqrt(vw[j]+eps)) * (beta1*mw[j]+(1-beta1)*dw[j]/(1-beta1**(i+1)))\n",
            "<ipython-input-97-a1372c04f788>:40: RuntimeWarning: invalid value encountered in multiply\n",
            "  b[j] = b[j]- (eta/np.sqrt(vb[j]+eps)) * (beta1*mb[j]+(1-beta1)*db[j]/(1-beta1**(i+1)))\n"
          ]
        },
        {
          "output_type": "stream",
          "name": "stdout",
          "text": [
            "epoch 1\n",
            "5370\n",
            "630\n",
            "1000\n",
            "accu:  0.105\n"
          ]
        },
        {
          "output_type": "display_data",
          "data": {
            "text/plain": [
              "VBox(children=(Label(value='0.001 MB of 0.001 MB uploaded\\r'), FloatProgress(value=1.0, max=1.0)))"
            ],
            "application/vnd.jupyter.widget-view+json": {
              "version_major": 2,
              "version_minor": 0,
              "model_id": "b05c6befa0654bd296326762ad4be6a9"
            }
          },
          "metadata": {}
        },
        {
          "output_type": "display_data",
          "data": {
            "text/plain": [
              "<IPython.core.display.HTML object>"
            ],
            "text/html": [
              "<style>\n",
              "    table.wandb td:nth-child(1) { padding: 0 10px; text-align: left ; width: auto;} td:nth-child(2) {text-align: left ; width: 100%}\n",
              "    .wandb-row { display: flex; flex-direction: row; flex-wrap: wrap; justify-content: flex-start; width: 100% }\n",
              "    .wandb-col { display: flex; flex-direction: column; flex-basis: 100%; flex: 1; padding: 10px; }\n",
              "    </style>\n",
              "<div class=\"wandb-row\"><div class=\"wandb-col\"><h3>Run history:</h3><br/><table class=\"wandb\"><tr><td>test_acc</td><td>▁</td></tr><tr><td>train_acc</td><td>▁</td></tr><tr><td>validation_acc</td><td>▁</td></tr></table><br/></div><div class=\"wandb-col\"><h3>Run summary:</h3><br/><table class=\"wandb\"><tr><td>test_acc</td><td>0.1</td></tr><tr><td>train_acc</td><td>0.09944</td></tr><tr><td>validation_acc</td><td>0.105</td></tr></table><br/></div></div>"
            ]
          },
          "metadata": {}
        },
        {
          "output_type": "display_data",
          "data": {
            "text/plain": [
              "<IPython.core.display.HTML object>"
            ],
            "text/html": [
              " View run <strong style=\"color:#cdcd00\">sage-sweep-2</strong> at: <a href='https://wandb.ai/cs23m005/Assignment1/runs/wmpd9xf0' target=\"_blank\">https://wandb.ai/cs23m005/Assignment1/runs/wmpd9xf0</a><br/>Synced 5 W&B file(s), 0 media file(s), 0 artifact file(s) and 0 other file(s)"
            ]
          },
          "metadata": {}
        },
        {
          "output_type": "display_data",
          "data": {
            "text/plain": [
              "<IPython.core.display.HTML object>"
            ],
            "text/html": [
              "Find logs at: <code>./wandb/run-20240317_081943-wmpd9xf0/logs</code>"
            ]
          },
          "metadata": {}
        },
        {
          "output_type": "stream",
          "name": "stderr",
          "text": [
            "\u001b[34m\u001b[1mwandb\u001b[0m: Agent Starting Run: e30dxzhz with config:\n",
            "\u001b[34m\u001b[1mwandb\u001b[0m: \tactivation: tanh\n",
            "\u001b[34m\u001b[1mwandb\u001b[0m: \tbatch_size: 128\n",
            "\u001b[34m\u001b[1mwandb\u001b[0m: \tlearning_rate: 0.001\n",
            "\u001b[34m\u001b[1mwandb\u001b[0m: \tloss: crossentropy\n",
            "\u001b[34m\u001b[1mwandb\u001b[0m: \tnum_epochs: 4\n",
            "\u001b[34m\u001b[1mwandb\u001b[0m: \tnum_hidden_layers: 4\n",
            "\u001b[34m\u001b[1mwandb\u001b[0m: \toptimizer: mgd\n",
            "\u001b[34m\u001b[1mwandb\u001b[0m: \treg_lambda: 0.0005\n",
            "\u001b[34m\u001b[1mwandb\u001b[0m: \tsize_hidden_layer: 32\n",
            "\u001b[34m\u001b[1mwandb\u001b[0m: \tweight_init: xavier\n"
          ]
        },
        {
          "output_type": "display_data",
          "data": {
            "text/plain": [
              "<IPython.core.display.HTML object>"
            ],
            "text/html": [
              "Tracking run with wandb version 0.16.4"
            ]
          },
          "metadata": {}
        },
        {
          "output_type": "display_data",
          "data": {
            "text/plain": [
              "<IPython.core.display.HTML object>"
            ],
            "text/html": [
              "Run data is saved locally in <code>/content/wandb/run-20240317_082032-e30dxzhz</code>"
            ]
          },
          "metadata": {}
        },
        {
          "output_type": "display_data",
          "data": {
            "text/plain": [
              "<IPython.core.display.HTML object>"
            ],
            "text/html": [
              "Syncing run <strong><a href='https://wandb.ai/cs23m005/Assignment1/runs/e30dxzhz' target=\"_blank\">treasured-sweep-3</a></strong> to <a href='https://wandb.ai/cs23m005/Assignment1' target=\"_blank\">Weights & Biases</a> (<a href='https://wandb.me/run' target=\"_blank\">docs</a>)<br/>Sweep page: <a href='https://wandb.ai/cs23m005/Assignment1/sweeps/ra351dwp' target=\"_blank\">https://wandb.ai/cs23m005/Assignment1/sweeps/ra351dwp</a>"
            ]
          },
          "metadata": {}
        },
        {
          "output_type": "display_data",
          "data": {
            "text/plain": [
              "<IPython.core.display.HTML object>"
            ],
            "text/html": [
              " View project at <a href='https://wandb.ai/cs23m005/Assignment1' target=\"_blank\">https://wandb.ai/cs23m005/Assignment1</a>"
            ]
          },
          "metadata": {}
        },
        {
          "output_type": "display_data",
          "data": {
            "text/plain": [
              "<IPython.core.display.HTML object>"
            ],
            "text/html": [
              " View sweep at <a href='https://wandb.ai/cs23m005/Assignment1/sweeps/ra351dwp' target=\"_blank\">https://wandb.ai/cs23m005/Assignment1/sweeps/ra351dwp</a>"
            ]
          },
          "metadata": {}
        },
        {
          "output_type": "display_data",
          "data": {
            "text/plain": [
              "<IPython.core.display.HTML object>"
            ],
            "text/html": [
              " View run at <a href='https://wandb.ai/cs23m005/Assignment1/runs/e30dxzhz' target=\"_blank\">https://wandb.ai/cs23m005/Assignment1/runs/e30dxzhz</a>"
            ]
          },
          "metadata": {}
        },
        {
          "output_type": "stream",
          "name": "stdout",
          "text": [
            "in mgd\n",
            "epoch 0\n",
            "epoch 1\n",
            "epoch 2\n",
            "epoch 3\n",
            "46342\n",
            "5091\n",
            "8148\n",
            "accu:  0.8485\n"
          ]
        },
        {
          "output_type": "display_data",
          "data": {
            "text/plain": [
              "VBox(children=(Label(value='0.011 MB of 0.011 MB uploaded\\r'), FloatProgress(value=1.0, max=1.0)))"
            ],
            "application/vnd.jupyter.widget-view+json": {
              "version_major": 2,
              "version_minor": 0,
              "model_id": "a3a15b86131040a9a0e9723c656418b4"
            }
          },
          "metadata": {}
        },
        {
          "output_type": "display_data",
          "data": {
            "text/plain": [
              "<IPython.core.display.HTML object>"
            ],
            "text/html": [
              "<style>\n",
              "    table.wandb td:nth-child(1) { padding: 0 10px; text-align: left ; width: auto;} td:nth-child(2) {text-align: left ; width: 100%}\n",
              "    .wandb-row { display: flex; flex-direction: row; flex-wrap: wrap; justify-content: flex-start; width: 100% }\n",
              "    .wandb-col { display: flex; flex-direction: column; flex-basis: 100%; flex: 1; padding: 10px; }\n",
              "    </style>\n",
              "<div class=\"wandb-row\"><div class=\"wandb-col\"><h3>Run history:</h3><br/><table class=\"wandb\"><tr><td>test_acc</td><td>▁</td></tr><tr><td>train_acc</td><td>▁</td></tr><tr><td>validation_acc</td><td>▁</td></tr></table><br/></div><div class=\"wandb-col\"><h3>Run summary:</h3><br/><table class=\"wandb\"><tr><td>test_acc</td><td>0.8148</td></tr><tr><td>train_acc</td><td>0.85819</td></tr><tr><td>validation_acc</td><td>0.8485</td></tr></table><br/></div></div>"
            ]
          },
          "metadata": {}
        },
        {
          "output_type": "display_data",
          "data": {
            "text/plain": [
              "<IPython.core.display.HTML object>"
            ],
            "text/html": [
              " View run <strong style=\"color:#cdcd00\">treasured-sweep-3</strong> at: <a href='https://wandb.ai/cs23m005/Assignment1/runs/e30dxzhz' target=\"_blank\">https://wandb.ai/cs23m005/Assignment1/runs/e30dxzhz</a><br/>Synced 5 W&B file(s), 0 media file(s), 0 artifact file(s) and 0 other file(s)"
            ]
          },
          "metadata": {}
        },
        {
          "output_type": "display_data",
          "data": {
            "text/plain": [
              "<IPython.core.display.HTML object>"
            ],
            "text/html": [
              "Find logs at: <code>./wandb/run-20240317_082032-e30dxzhz/logs</code>"
            ]
          },
          "metadata": {}
        },
        {
          "output_type": "stream",
          "name": "stderr",
          "text": [
            "\u001b[34m\u001b[1mwandb\u001b[0m: Agent Starting Run: 1vf1ldl0 with config:\n",
            "\u001b[34m\u001b[1mwandb\u001b[0m: \tactivation: tanh\n",
            "\u001b[34m\u001b[1mwandb\u001b[0m: \tbatch_size: 64\n",
            "\u001b[34m\u001b[1mwandb\u001b[0m: \tlearning_rate: 0.0001\n",
            "\u001b[34m\u001b[1mwandb\u001b[0m: \tloss: crossentropy\n",
            "\u001b[34m\u001b[1mwandb\u001b[0m: \tnum_epochs: 4\n",
            "\u001b[34m\u001b[1mwandb\u001b[0m: \tnum_hidden_layers: 4\n",
            "\u001b[34m\u001b[1mwandb\u001b[0m: \toptimizer: adam\n",
            "\u001b[34m\u001b[1mwandb\u001b[0m: \treg_lambda: 0.0005\n",
            "\u001b[34m\u001b[1mwandb\u001b[0m: \tsize_hidden_layer: 16\n",
            "\u001b[34m\u001b[1mwandb\u001b[0m: \tweight_init: random\n"
          ]
        },
        {
          "output_type": "display_data",
          "data": {
            "text/plain": [
              "<IPython.core.display.HTML object>"
            ],
            "text/html": [
              "Tracking run with wandb version 0.16.4"
            ]
          },
          "metadata": {}
        },
        {
          "output_type": "display_data",
          "data": {
            "text/plain": [
              "<IPython.core.display.HTML object>"
            ],
            "text/html": [
              "Run data is saved locally in <code>/content/wandb/run-20240317_082229-1vf1ldl0</code>"
            ]
          },
          "metadata": {}
        },
        {
          "output_type": "display_data",
          "data": {
            "text/plain": [
              "<IPython.core.display.HTML object>"
            ],
            "text/html": [
              "Syncing run <strong><a href='https://wandb.ai/cs23m005/Assignment1/runs/1vf1ldl0' target=\"_blank\">ethereal-sweep-4</a></strong> to <a href='https://wandb.ai/cs23m005/Assignment1' target=\"_blank\">Weights & Biases</a> (<a href='https://wandb.me/run' target=\"_blank\">docs</a>)<br/>Sweep page: <a href='https://wandb.ai/cs23m005/Assignment1/sweeps/ra351dwp' target=\"_blank\">https://wandb.ai/cs23m005/Assignment1/sweeps/ra351dwp</a>"
            ]
          },
          "metadata": {}
        },
        {
          "output_type": "display_data",
          "data": {
            "text/plain": [
              "<IPython.core.display.HTML object>"
            ],
            "text/html": [
              " View project at <a href='https://wandb.ai/cs23m005/Assignment1' target=\"_blank\">https://wandb.ai/cs23m005/Assignment1</a>"
            ]
          },
          "metadata": {}
        },
        {
          "output_type": "display_data",
          "data": {
            "text/plain": [
              "<IPython.core.display.HTML object>"
            ],
            "text/html": [
              " View sweep at <a href='https://wandb.ai/cs23m005/Assignment1/sweeps/ra351dwp' target=\"_blank\">https://wandb.ai/cs23m005/Assignment1/sweeps/ra351dwp</a>"
            ]
          },
          "metadata": {}
        },
        {
          "output_type": "display_data",
          "data": {
            "text/plain": [
              "<IPython.core.display.HTML object>"
            ],
            "text/html": [
              " View run at <a href='https://wandb.ai/cs23m005/Assignment1/runs/1vf1ldl0' target=\"_blank\">https://wandb.ai/cs23m005/Assignment1/runs/1vf1ldl0</a>"
            ]
          },
          "metadata": {}
        },
        {
          "output_type": "stream",
          "name": "stdout",
          "text": [
            "in adam\n",
            "epoch 0\n"
          ]
        },
        {
          "output_type": "stream",
          "name": "stderr",
          "text": [
            "<ipython-input-101-e8f12055441c>:38: RuntimeWarning: overflow encountered in divide\n",
            "  vb[j] = (beta2*vb[j] + (1-beta2)*db[j]**2) /(1-np.power(beta2, i+1))\n",
            "<ipython-input-101-e8f12055441c>:39: RuntimeWarning: invalid value encountered in divide\n",
            "  w[j] = w[j]- (eta*mw[j]/(np.sqrt(vw[j]+eps)))\n",
            "<ipython-input-101-e8f12055441c>:40: RuntimeWarning: invalid value encountered in divide\n",
            "  b[j] = b[j]- (eta*mb[j]/(np.sqrt(vb[j]+eps)))\n"
          ]
        },
        {
          "output_type": "stream",
          "name": "stdout",
          "text": [
            "epoch 1\n",
            "epoch 2\n",
            "epoch 3\n",
            "5370\n",
            "630\n",
            "1000\n",
            "accu:  0.105\n"
          ]
        },
        {
          "output_type": "display_data",
          "data": {
            "text/plain": [
              "VBox(children=(Label(value='0.001 MB of 0.001 MB uploaded\\r'), FloatProgress(value=1.0, max=1.0)))"
            ],
            "application/vnd.jupyter.widget-view+json": {
              "version_major": 2,
              "version_minor": 0,
              "model_id": "654b1c4f33744bc19d9bdff67a539414"
            }
          },
          "metadata": {}
        },
        {
          "output_type": "display_data",
          "data": {
            "text/plain": [
              "<IPython.core.display.HTML object>"
            ],
            "text/html": [
              "<style>\n",
              "    table.wandb td:nth-child(1) { padding: 0 10px; text-align: left ; width: auto;} td:nth-child(2) {text-align: left ; width: 100%}\n",
              "    .wandb-row { display: flex; flex-direction: row; flex-wrap: wrap; justify-content: flex-start; width: 100% }\n",
              "    .wandb-col { display: flex; flex-direction: column; flex-basis: 100%; flex: 1; padding: 10px; }\n",
              "    </style>\n",
              "<div class=\"wandb-row\"><div class=\"wandb-col\"><h3>Run history:</h3><br/><table class=\"wandb\"><tr><td>test_acc</td><td>▁</td></tr><tr><td>train_acc</td><td>▁</td></tr><tr><td>validation_acc</td><td>▁</td></tr></table><br/></div><div class=\"wandb-col\"><h3>Run summary:</h3><br/><table class=\"wandb\"><tr><td>test_acc</td><td>0.1</td></tr><tr><td>train_acc</td><td>0.09944</td></tr><tr><td>validation_acc</td><td>0.105</td></tr></table><br/></div></div>"
            ]
          },
          "metadata": {}
        },
        {
          "output_type": "display_data",
          "data": {
            "text/plain": [
              "<IPython.core.display.HTML object>"
            ],
            "text/html": [
              " View run <strong style=\"color:#cdcd00\">ethereal-sweep-4</strong> at: <a href='https://wandb.ai/cs23m005/Assignment1/runs/1vf1ldl0' target=\"_blank\">https://wandb.ai/cs23m005/Assignment1/runs/1vf1ldl0</a><br/>Synced 5 W&B file(s), 0 media file(s), 0 artifact file(s) and 0 other file(s)"
            ]
          },
          "metadata": {}
        },
        {
          "output_type": "display_data",
          "data": {
            "text/plain": [
              "<IPython.core.display.HTML object>"
            ],
            "text/html": [
              "Find logs at: <code>./wandb/run-20240317_082229-1vf1ldl0/logs</code>"
            ]
          },
          "metadata": {}
        },
        {
          "output_type": "stream",
          "name": "stderr",
          "text": [
            "\u001b[34m\u001b[1mwandb\u001b[0m: Agent Starting Run: de2w596y with config:\n",
            "\u001b[34m\u001b[1mwandb\u001b[0m: \tactivation: sigmoid\n",
            "\u001b[34m\u001b[1mwandb\u001b[0m: \tbatch_size: 64\n",
            "\u001b[34m\u001b[1mwandb\u001b[0m: \tlearning_rate: 0.001\n",
            "\u001b[34m\u001b[1mwandb\u001b[0m: \tloss: crossentropy\n",
            "\u001b[34m\u001b[1mwandb\u001b[0m: \tnum_epochs: 4\n",
            "\u001b[34m\u001b[1mwandb\u001b[0m: \tnum_hidden_layers: 3\n",
            "\u001b[34m\u001b[1mwandb\u001b[0m: \toptimizer: adam\n",
            "\u001b[34m\u001b[1mwandb\u001b[0m: \treg_lambda: 0\n",
            "\u001b[34m\u001b[1mwandb\u001b[0m: \tsize_hidden_layer: 64\n",
            "\u001b[34m\u001b[1mwandb\u001b[0m: \tweight_init: xavier\n"
          ]
        },
        {
          "output_type": "display_data",
          "data": {
            "text/plain": [
              "<IPython.core.display.HTML object>"
            ],
            "text/html": [
              "Tracking run with wandb version 0.16.4"
            ]
          },
          "metadata": {}
        },
        {
          "output_type": "display_data",
          "data": {
            "text/plain": [
              "<IPython.core.display.HTML object>"
            ],
            "text/html": [
              "Run data is saved locally in <code>/content/wandb/run-20240317_082410-de2w596y</code>"
            ]
          },
          "metadata": {}
        },
        {
          "output_type": "display_data",
          "data": {
            "text/plain": [
              "<IPython.core.display.HTML object>"
            ],
            "text/html": [
              "Syncing run <strong><a href='https://wandb.ai/cs23m005/Assignment1/runs/de2w596y' target=\"_blank\">gallant-sweep-5</a></strong> to <a href='https://wandb.ai/cs23m005/Assignment1' target=\"_blank\">Weights & Biases</a> (<a href='https://wandb.me/run' target=\"_blank\">docs</a>)<br/>Sweep page: <a href='https://wandb.ai/cs23m005/Assignment1/sweeps/ra351dwp' target=\"_blank\">https://wandb.ai/cs23m005/Assignment1/sweeps/ra351dwp</a>"
            ]
          },
          "metadata": {}
        },
        {
          "output_type": "display_data",
          "data": {
            "text/plain": [
              "<IPython.core.display.HTML object>"
            ],
            "text/html": [
              " View project at <a href='https://wandb.ai/cs23m005/Assignment1' target=\"_blank\">https://wandb.ai/cs23m005/Assignment1</a>"
            ]
          },
          "metadata": {}
        },
        {
          "output_type": "display_data",
          "data": {
            "text/plain": [
              "<IPython.core.display.HTML object>"
            ],
            "text/html": [
              " View sweep at <a href='https://wandb.ai/cs23m005/Assignment1/sweeps/ra351dwp' target=\"_blank\">https://wandb.ai/cs23m005/Assignment1/sweeps/ra351dwp</a>"
            ]
          },
          "metadata": {}
        },
        {
          "output_type": "display_data",
          "data": {
            "text/plain": [
              "<IPython.core.display.HTML object>"
            ],
            "text/html": [
              " View run at <a href='https://wandb.ai/cs23m005/Assignment1/runs/de2w596y' target=\"_blank\">https://wandb.ai/cs23m005/Assignment1/runs/de2w596y</a>"
            ]
          },
          "metadata": {}
        },
        {
          "output_type": "stream",
          "name": "stdout",
          "text": [
            "in adam\n",
            "epoch 0\n",
            "epoch 1\n",
            "epoch 2\n",
            "epoch 3\n",
            "5370\n",
            "630\n",
            "1000\n",
            "accu:  0.105\n"
          ]
        },
        {
          "output_type": "display_data",
          "data": {
            "text/plain": [
              "VBox(children=(Label(value='0.011 MB of 0.011 MB uploaded\\r'), FloatProgress(value=1.0, max=1.0)))"
            ],
            "application/vnd.jupyter.widget-view+json": {
              "version_major": 2,
              "version_minor": 0,
              "model_id": "58d37f354c3046c58dac5746a228cb23"
            }
          },
          "metadata": {}
        },
        {
          "output_type": "display_data",
          "data": {
            "text/plain": [
              "<IPython.core.display.HTML object>"
            ],
            "text/html": [
              "<style>\n",
              "    table.wandb td:nth-child(1) { padding: 0 10px; text-align: left ; width: auto;} td:nth-child(2) {text-align: left ; width: 100%}\n",
              "    .wandb-row { display: flex; flex-direction: row; flex-wrap: wrap; justify-content: flex-start; width: 100% }\n",
              "    .wandb-col { display: flex; flex-direction: column; flex-basis: 100%; flex: 1; padding: 10px; }\n",
              "    </style>\n",
              "<div class=\"wandb-row\"><div class=\"wandb-col\"><h3>Run history:</h3><br/><table class=\"wandb\"><tr><td>test_acc</td><td>▁</td></tr><tr><td>train_acc</td><td>▁</td></tr><tr><td>validation_acc</td><td>▁</td></tr></table><br/></div><div class=\"wandb-col\"><h3>Run summary:</h3><br/><table class=\"wandb\"><tr><td>test_acc</td><td>0.1</td></tr><tr><td>train_acc</td><td>0.09944</td></tr><tr><td>validation_acc</td><td>0.105</td></tr></table><br/></div></div>"
            ]
          },
          "metadata": {}
        },
        {
          "output_type": "display_data",
          "data": {
            "text/plain": [
              "<IPython.core.display.HTML object>"
            ],
            "text/html": [
              " View run <strong style=\"color:#cdcd00\">gallant-sweep-5</strong> at: <a href='https://wandb.ai/cs23m005/Assignment1/runs/de2w596y' target=\"_blank\">https://wandb.ai/cs23m005/Assignment1/runs/de2w596y</a><br/>Synced 5 W&B file(s), 0 media file(s), 0 artifact file(s) and 0 other file(s)"
            ]
          },
          "metadata": {}
        },
        {
          "output_type": "display_data",
          "data": {
            "text/plain": [
              "<IPython.core.display.HTML object>"
            ],
            "text/html": [
              "Find logs at: <code>./wandb/run-20240317_082410-de2w596y/logs</code>"
            ]
          },
          "metadata": {}
        },
        {
          "output_type": "stream",
          "name": "stderr",
          "text": [
            "\u001b[34m\u001b[1mwandb\u001b[0m: Agent Starting Run: cyvmrshc with config:\n",
            "\u001b[34m\u001b[1mwandb\u001b[0m: \tactivation: sigmoid\n",
            "\u001b[34m\u001b[1mwandb\u001b[0m: \tbatch_size: 32\n",
            "\u001b[34m\u001b[1mwandb\u001b[0m: \tlearning_rate: 0.001\n",
            "\u001b[34m\u001b[1mwandb\u001b[0m: \tloss: crossentropy\n",
            "\u001b[34m\u001b[1mwandb\u001b[0m: \tnum_epochs: 2\n",
            "\u001b[34m\u001b[1mwandb\u001b[0m: \tnum_hidden_layers: 4\n",
            "\u001b[34m\u001b[1mwandb\u001b[0m: \toptimizer: mgd\n",
            "\u001b[34m\u001b[1mwandb\u001b[0m: \treg_lambda: 0\n",
            "\u001b[34m\u001b[1mwandb\u001b[0m: \tsize_hidden_layer: 64\n",
            "\u001b[34m\u001b[1mwandb\u001b[0m: \tweight_init: random\n"
          ]
        },
        {
          "output_type": "display_data",
          "data": {
            "text/plain": [
              "<IPython.core.display.HTML object>"
            ],
            "text/html": [
              "Tracking run with wandb version 0.16.4"
            ]
          },
          "metadata": {}
        },
        {
          "output_type": "display_data",
          "data": {
            "text/plain": [
              "<IPython.core.display.HTML object>"
            ],
            "text/html": [
              "Run data is saved locally in <code>/content/wandb/run-20240317_082719-cyvmrshc</code>"
            ]
          },
          "metadata": {}
        },
        {
          "output_type": "display_data",
          "data": {
            "text/plain": [
              "<IPython.core.display.HTML object>"
            ],
            "text/html": [
              "Syncing run <strong><a href='https://wandb.ai/cs23m005/Assignment1/runs/cyvmrshc' target=\"_blank\">laced-sweep-6</a></strong> to <a href='https://wandb.ai/cs23m005/Assignment1' target=\"_blank\">Weights & Biases</a> (<a href='https://wandb.me/run' target=\"_blank\">docs</a>)<br/>Sweep page: <a href='https://wandb.ai/cs23m005/Assignment1/sweeps/ra351dwp' target=\"_blank\">https://wandb.ai/cs23m005/Assignment1/sweeps/ra351dwp</a>"
            ]
          },
          "metadata": {}
        },
        {
          "output_type": "display_data",
          "data": {
            "text/plain": [
              "<IPython.core.display.HTML object>"
            ],
            "text/html": [
              " View project at <a href='https://wandb.ai/cs23m005/Assignment1' target=\"_blank\">https://wandb.ai/cs23m005/Assignment1</a>"
            ]
          },
          "metadata": {}
        },
        {
          "output_type": "display_data",
          "data": {
            "text/plain": [
              "<IPython.core.display.HTML object>"
            ],
            "text/html": [
              " View sweep at <a href='https://wandb.ai/cs23m005/Assignment1/sweeps/ra351dwp' target=\"_blank\">https://wandb.ai/cs23m005/Assignment1/sweeps/ra351dwp</a>"
            ]
          },
          "metadata": {}
        },
        {
          "output_type": "display_data",
          "data": {
            "text/plain": [
              "<IPython.core.display.HTML object>"
            ],
            "text/html": [
              " View run at <a href='https://wandb.ai/cs23m005/Assignment1/runs/cyvmrshc' target=\"_blank\">https://wandb.ai/cs23m005/Assignment1/runs/cyvmrshc</a>"
            ]
          },
          "metadata": {}
        },
        {
          "output_type": "stream",
          "name": "stdout",
          "text": [
            "in mgd\n",
            "epoch 0\n",
            "epoch 1\n",
            "43506\n",
            "4727\n",
            "7639\n",
            "accu:  0.7878333333333334\n"
          ]
        },
        {
          "output_type": "display_data",
          "data": {
            "text/plain": [
              "VBox(children=(Label(value='0.001 MB of 0.001 MB uploaded\\r'), FloatProgress(value=1.0, max=1.0)))"
            ],
            "application/vnd.jupyter.widget-view+json": {
              "version_major": 2,
              "version_minor": 0,
              "model_id": "b9a140481740403d8f2b101a555c8b32"
            }
          },
          "metadata": {}
        },
        {
          "output_type": "display_data",
          "data": {
            "text/plain": [
              "<IPython.core.display.HTML object>"
            ],
            "text/html": [
              "<style>\n",
              "    table.wandb td:nth-child(1) { padding: 0 10px; text-align: left ; width: auto;} td:nth-child(2) {text-align: left ; width: 100%}\n",
              "    .wandb-row { display: flex; flex-direction: row; flex-wrap: wrap; justify-content: flex-start; width: 100% }\n",
              "    .wandb-col { display: flex; flex-direction: column; flex-basis: 100%; flex: 1; padding: 10px; }\n",
              "    </style>\n",
              "<div class=\"wandb-row\"><div class=\"wandb-col\"><h3>Run history:</h3><br/><table class=\"wandb\"><tr><td>test_acc</td><td>▁</td></tr><tr><td>train_acc</td><td>▁</td></tr><tr><td>validation_acc</td><td>▁</td></tr></table><br/></div><div class=\"wandb-col\"><h3>Run summary:</h3><br/><table class=\"wandb\"><tr><td>test_acc</td><td>0.7639</td></tr><tr><td>train_acc</td><td>0.80567</td></tr><tr><td>validation_acc</td><td>0.78783</td></tr></table><br/></div></div>"
            ]
          },
          "metadata": {}
        },
        {
          "output_type": "display_data",
          "data": {
            "text/plain": [
              "<IPython.core.display.HTML object>"
            ],
            "text/html": [
              " View run <strong style=\"color:#cdcd00\">laced-sweep-6</strong> at: <a href='https://wandb.ai/cs23m005/Assignment1/runs/cyvmrshc' target=\"_blank\">https://wandb.ai/cs23m005/Assignment1/runs/cyvmrshc</a><br/>Synced 5 W&B file(s), 0 media file(s), 0 artifact file(s) and 0 other file(s)"
            ]
          },
          "metadata": {}
        },
        {
          "output_type": "display_data",
          "data": {
            "text/plain": [
              "<IPython.core.display.HTML object>"
            ],
            "text/html": [
              "Find logs at: <code>./wandb/run-20240317_082719-cyvmrshc/logs</code>"
            ]
          },
          "metadata": {}
        }
      ]
    },
    {
      "cell_type": "code",
      "source": [],
      "metadata": {
        "id": "NoV2cNz8U0pE"
      },
      "execution_count": 106,
      "outputs": []
    },
    {
      "cell_type": "code",
      "source": [],
      "metadata": {
        "id": "2fPIQmMzXmIT"
      },
      "execution_count": 106,
      "outputs": []
    },
    {
      "cell_type": "code",
      "source": [
        "# print(train_accuracy*100)\n",
        "# print(test_accuracy*100)"
      ],
      "metadata": {
        "id": "h3WCeFCWoge1"
      },
      "execution_count": 107,
      "outputs": []
    },
    {
      "cell_type": "code",
      "source": [
        "# plt.plot(w_old[n_layers][1], 'o')\n",
        "# plt.plot(w_n[n_layers][1], 'o')\n",
        "# # plt.show()"
      ],
      "metadata": {
        "id": "lYAH1uhNII5j"
      },
      "execution_count": 108,
      "outputs": []
    },
    {
      "cell_type": "code",
      "source": [
        "# plt.plot(b_old[1], 'o')\n",
        "# plt.plot(b_n[1], 'o')\n",
        "# plt.show()"
      ],
      "metadata": {
        "id": "x5EhgJBhWila"
      },
      "execution_count": 109,
      "outputs": []
    },
    {
      "cell_type": "code",
      "source": [
        "# sample = X_train[0].flatten()\n",
        "# y_hat, a, h = forward_prop(w, b, sample, n_layers)\n",
        "# dw, db = backprop(y_hat, y_train[0], a, h, w, b, activation_f, batch_size, loss, ud_lambda, n_outputs)"
      ],
      "metadata": {
        "id": "74nEFu_RXPHQ"
      },
      "execution_count": 110,
      "outputs": []
    },
    {
      "cell_type": "code",
      "source": [
        "# for i in range(0,n_layers+2):\n",
        "#   print(np.array(b[i]).shape)"
      ],
      "metadata": {
        "id": "C6mZSatNIeNx"
      },
      "execution_count": 111,
      "outputs": []
    }
  ],
  "metadata": {
    "colab": {
      "provenance": [],
      "authorship_tag": "ABX9TyOgeio/PsBqTJMZJykQc0gr",
      "include_colab_link": true
    },
    "kernelspec": {
      "display_name": "Python 3",
      "name": "python3"
    },
    "language_info": {
      "name": "python"
    },
    "widgets": {
      "application/vnd.jupyter.widget-state+json": {
        "1619418f08494243a5cebac7da1c979e": {
          "model_module": "@jupyter-widgets/controls",
          "model_name": "VBoxModel",
          "model_module_version": "1.5.0",
          "state": {
            "_dom_classes": [],
            "_model_module": "@jupyter-widgets/controls",
            "_model_module_version": "1.5.0",
            "_model_name": "VBoxModel",
            "_view_count": null,
            "_view_module": "@jupyter-widgets/controls",
            "_view_module_version": "1.5.0",
            "_view_name": "VBoxView",
            "box_style": "",
            "children": [
              "IPY_MODEL_70387709f3ad4a6bb95de8ac56896d73",
              "IPY_MODEL_bf1333a5efba4f9db9f46a4853f88ef6"
            ],
            "layout": "IPY_MODEL_84e12c9f0b3946ea81f7f5eb9b7dcd63"
          }
        },
        "70387709f3ad4a6bb95de8ac56896d73": {
          "model_module": "@jupyter-widgets/controls",
          "model_name": "LabelModel",
          "model_module_version": "1.5.0",
          "state": {
            "_dom_classes": [],
            "_model_module": "@jupyter-widgets/controls",
            "_model_module_version": "1.5.0",
            "_model_name": "LabelModel",
            "_view_count": null,
            "_view_module": "@jupyter-widgets/controls",
            "_view_module_version": "1.5.0",
            "_view_name": "LabelView",
            "description": "",
            "description_tooltip": null,
            "layout": "IPY_MODEL_b5ac94079a314acc80ff1a5bedb0333b",
            "placeholder": "​",
            "style": "IPY_MODEL_32e734b74271458d914e4e132aa0107f",
            "value": "0.012 MB of 0.012 MB uploaded\r"
          }
        },
        "bf1333a5efba4f9db9f46a4853f88ef6": {
          "model_module": "@jupyter-widgets/controls",
          "model_name": "FloatProgressModel",
          "model_module_version": "1.5.0",
          "state": {
            "_dom_classes": [],
            "_model_module": "@jupyter-widgets/controls",
            "_model_module_version": "1.5.0",
            "_model_name": "FloatProgressModel",
            "_view_count": null,
            "_view_module": "@jupyter-widgets/controls",
            "_view_module_version": "1.5.0",
            "_view_name": "ProgressView",
            "bar_style": "",
            "description": "",
            "description_tooltip": null,
            "layout": "IPY_MODEL_2cf1a6cf80e04fd49473e68d8c1ca449",
            "max": 1,
            "min": 0,
            "orientation": "horizontal",
            "style": "IPY_MODEL_55a9356000754cf1b5e39bef7c13a648",
            "value": 1
          }
        },
        "84e12c9f0b3946ea81f7f5eb9b7dcd63": {
          "model_module": "@jupyter-widgets/base",
          "model_name": "LayoutModel",
          "model_module_version": "1.2.0",
          "state": {
            "_model_module": "@jupyter-widgets/base",
            "_model_module_version": "1.2.0",
            "_model_name": "LayoutModel",
            "_view_count": null,
            "_view_module": "@jupyter-widgets/base",
            "_view_module_version": "1.2.0",
            "_view_name": "LayoutView",
            "align_content": null,
            "align_items": null,
            "align_self": null,
            "border": null,
            "bottom": null,
            "display": null,
            "flex": null,
            "flex_flow": null,
            "grid_area": null,
            "grid_auto_columns": null,
            "grid_auto_flow": null,
            "grid_auto_rows": null,
            "grid_column": null,
            "grid_gap": null,
            "grid_row": null,
            "grid_template_areas": null,
            "grid_template_columns": null,
            "grid_template_rows": null,
            "height": null,
            "justify_content": null,
            "justify_items": null,
            "left": null,
            "margin": null,
            "max_height": null,
            "max_width": null,
            "min_height": null,
            "min_width": null,
            "object_fit": null,
            "object_position": null,
            "order": null,
            "overflow": null,
            "overflow_x": null,
            "overflow_y": null,
            "padding": null,
            "right": null,
            "top": null,
            "visibility": null,
            "width": null
          }
        },
        "b5ac94079a314acc80ff1a5bedb0333b": {
          "model_module": "@jupyter-widgets/base",
          "model_name": "LayoutModel",
          "model_module_version": "1.2.0",
          "state": {
            "_model_module": "@jupyter-widgets/base",
            "_model_module_version": "1.2.0",
            "_model_name": "LayoutModel",
            "_view_count": null,
            "_view_module": "@jupyter-widgets/base",
            "_view_module_version": "1.2.0",
            "_view_name": "LayoutView",
            "align_content": null,
            "align_items": null,
            "align_self": null,
            "border": null,
            "bottom": null,
            "display": null,
            "flex": null,
            "flex_flow": null,
            "grid_area": null,
            "grid_auto_columns": null,
            "grid_auto_flow": null,
            "grid_auto_rows": null,
            "grid_column": null,
            "grid_gap": null,
            "grid_row": null,
            "grid_template_areas": null,
            "grid_template_columns": null,
            "grid_template_rows": null,
            "height": null,
            "justify_content": null,
            "justify_items": null,
            "left": null,
            "margin": null,
            "max_height": null,
            "max_width": null,
            "min_height": null,
            "min_width": null,
            "object_fit": null,
            "object_position": null,
            "order": null,
            "overflow": null,
            "overflow_x": null,
            "overflow_y": null,
            "padding": null,
            "right": null,
            "top": null,
            "visibility": null,
            "width": null
          }
        },
        "32e734b74271458d914e4e132aa0107f": {
          "model_module": "@jupyter-widgets/controls",
          "model_name": "DescriptionStyleModel",
          "model_module_version": "1.5.0",
          "state": {
            "_model_module": "@jupyter-widgets/controls",
            "_model_module_version": "1.5.0",
            "_model_name": "DescriptionStyleModel",
            "_view_count": null,
            "_view_module": "@jupyter-widgets/base",
            "_view_module_version": "1.2.0",
            "_view_name": "StyleView",
            "description_width": ""
          }
        },
        "2cf1a6cf80e04fd49473e68d8c1ca449": {
          "model_module": "@jupyter-widgets/base",
          "model_name": "LayoutModel",
          "model_module_version": "1.2.0",
          "state": {
            "_model_module": "@jupyter-widgets/base",
            "_model_module_version": "1.2.0",
            "_model_name": "LayoutModel",
            "_view_count": null,
            "_view_module": "@jupyter-widgets/base",
            "_view_module_version": "1.2.0",
            "_view_name": "LayoutView",
            "align_content": null,
            "align_items": null,
            "align_self": null,
            "border": null,
            "bottom": null,
            "display": null,
            "flex": null,
            "flex_flow": null,
            "grid_area": null,
            "grid_auto_columns": null,
            "grid_auto_flow": null,
            "grid_auto_rows": null,
            "grid_column": null,
            "grid_gap": null,
            "grid_row": null,
            "grid_template_areas": null,
            "grid_template_columns": null,
            "grid_template_rows": null,
            "height": null,
            "justify_content": null,
            "justify_items": null,
            "left": null,
            "margin": null,
            "max_height": null,
            "max_width": null,
            "min_height": null,
            "min_width": null,
            "object_fit": null,
            "object_position": null,
            "order": null,
            "overflow": null,
            "overflow_x": null,
            "overflow_y": null,
            "padding": null,
            "right": null,
            "top": null,
            "visibility": null,
            "width": null
          }
        },
        "55a9356000754cf1b5e39bef7c13a648": {
          "model_module": "@jupyter-widgets/controls",
          "model_name": "ProgressStyleModel",
          "model_module_version": "1.5.0",
          "state": {
            "_model_module": "@jupyter-widgets/controls",
            "_model_module_version": "1.5.0",
            "_model_name": "ProgressStyleModel",
            "_view_count": null,
            "_view_module": "@jupyter-widgets/base",
            "_view_module_version": "1.2.0",
            "_view_name": "StyleView",
            "bar_color": null,
            "description_width": ""
          }
        },
        "b05c6befa0654bd296326762ad4be6a9": {
          "model_module": "@jupyter-widgets/controls",
          "model_name": "VBoxModel",
          "model_module_version": "1.5.0",
          "state": {
            "_dom_classes": [],
            "_model_module": "@jupyter-widgets/controls",
            "_model_module_version": "1.5.0",
            "_model_name": "VBoxModel",
            "_view_count": null,
            "_view_module": "@jupyter-widgets/controls",
            "_view_module_version": "1.5.0",
            "_view_name": "VBoxView",
            "box_style": "",
            "children": [
              "IPY_MODEL_3fbb80491e2e4bd8842372390df7ddf0",
              "IPY_MODEL_313f65980d64423b8f190a77fe0e69d2"
            ],
            "layout": "IPY_MODEL_af7b4a8933e74b76a5c4590e50e3a2fc"
          }
        },
        "3fbb80491e2e4bd8842372390df7ddf0": {
          "model_module": "@jupyter-widgets/controls",
          "model_name": "LabelModel",
          "model_module_version": "1.5.0",
          "state": {
            "_dom_classes": [],
            "_model_module": "@jupyter-widgets/controls",
            "_model_module_version": "1.5.0",
            "_model_name": "LabelModel",
            "_view_count": null,
            "_view_module": "@jupyter-widgets/controls",
            "_view_module_version": "1.5.0",
            "_view_name": "LabelView",
            "description": "",
            "description_tooltip": null,
            "layout": "IPY_MODEL_41ea6f3e83904e1d98aac0899194bd63",
            "placeholder": "​",
            "style": "IPY_MODEL_3edc62d42ebb4e0bab6d95ecc8d4a477",
            "value": "0.012 MB of 0.012 MB uploaded\r"
          }
        },
        "313f65980d64423b8f190a77fe0e69d2": {
          "model_module": "@jupyter-widgets/controls",
          "model_name": "FloatProgressModel",
          "model_module_version": "1.5.0",
          "state": {
            "_dom_classes": [],
            "_model_module": "@jupyter-widgets/controls",
            "_model_module_version": "1.5.0",
            "_model_name": "FloatProgressModel",
            "_view_count": null,
            "_view_module": "@jupyter-widgets/controls",
            "_view_module_version": "1.5.0",
            "_view_name": "ProgressView",
            "bar_style": "",
            "description": "",
            "description_tooltip": null,
            "layout": "IPY_MODEL_6e2ebc4239c74ee5a759b3b11aadca18",
            "max": 1,
            "min": 0,
            "orientation": "horizontal",
            "style": "IPY_MODEL_b71ec2ba788e4e449e07bd3bd72b0bbf",
            "value": 1
          }
        },
        "af7b4a8933e74b76a5c4590e50e3a2fc": {
          "model_module": "@jupyter-widgets/base",
          "model_name": "LayoutModel",
          "model_module_version": "1.2.0",
          "state": {
            "_model_module": "@jupyter-widgets/base",
            "_model_module_version": "1.2.0",
            "_model_name": "LayoutModel",
            "_view_count": null,
            "_view_module": "@jupyter-widgets/base",
            "_view_module_version": "1.2.0",
            "_view_name": "LayoutView",
            "align_content": null,
            "align_items": null,
            "align_self": null,
            "border": null,
            "bottom": null,
            "display": null,
            "flex": null,
            "flex_flow": null,
            "grid_area": null,
            "grid_auto_columns": null,
            "grid_auto_flow": null,
            "grid_auto_rows": null,
            "grid_column": null,
            "grid_gap": null,
            "grid_row": null,
            "grid_template_areas": null,
            "grid_template_columns": null,
            "grid_template_rows": null,
            "height": null,
            "justify_content": null,
            "justify_items": null,
            "left": null,
            "margin": null,
            "max_height": null,
            "max_width": null,
            "min_height": null,
            "min_width": null,
            "object_fit": null,
            "object_position": null,
            "order": null,
            "overflow": null,
            "overflow_x": null,
            "overflow_y": null,
            "padding": null,
            "right": null,
            "top": null,
            "visibility": null,
            "width": null
          }
        },
        "41ea6f3e83904e1d98aac0899194bd63": {
          "model_module": "@jupyter-widgets/base",
          "model_name": "LayoutModel",
          "model_module_version": "1.2.0",
          "state": {
            "_model_module": "@jupyter-widgets/base",
            "_model_module_version": "1.2.0",
            "_model_name": "LayoutModel",
            "_view_count": null,
            "_view_module": "@jupyter-widgets/base",
            "_view_module_version": "1.2.0",
            "_view_name": "LayoutView",
            "align_content": null,
            "align_items": null,
            "align_self": null,
            "border": null,
            "bottom": null,
            "display": null,
            "flex": null,
            "flex_flow": null,
            "grid_area": null,
            "grid_auto_columns": null,
            "grid_auto_flow": null,
            "grid_auto_rows": null,
            "grid_column": null,
            "grid_gap": null,
            "grid_row": null,
            "grid_template_areas": null,
            "grid_template_columns": null,
            "grid_template_rows": null,
            "height": null,
            "justify_content": null,
            "justify_items": null,
            "left": null,
            "margin": null,
            "max_height": null,
            "max_width": null,
            "min_height": null,
            "min_width": null,
            "object_fit": null,
            "object_position": null,
            "order": null,
            "overflow": null,
            "overflow_x": null,
            "overflow_y": null,
            "padding": null,
            "right": null,
            "top": null,
            "visibility": null,
            "width": null
          }
        },
        "3edc62d42ebb4e0bab6d95ecc8d4a477": {
          "model_module": "@jupyter-widgets/controls",
          "model_name": "DescriptionStyleModel",
          "model_module_version": "1.5.0",
          "state": {
            "_model_module": "@jupyter-widgets/controls",
            "_model_module_version": "1.5.0",
            "_model_name": "DescriptionStyleModel",
            "_view_count": null,
            "_view_module": "@jupyter-widgets/base",
            "_view_module_version": "1.2.0",
            "_view_name": "StyleView",
            "description_width": ""
          }
        },
        "6e2ebc4239c74ee5a759b3b11aadca18": {
          "model_module": "@jupyter-widgets/base",
          "model_name": "LayoutModel",
          "model_module_version": "1.2.0",
          "state": {
            "_model_module": "@jupyter-widgets/base",
            "_model_module_version": "1.2.0",
            "_model_name": "LayoutModel",
            "_view_count": null,
            "_view_module": "@jupyter-widgets/base",
            "_view_module_version": "1.2.0",
            "_view_name": "LayoutView",
            "align_content": null,
            "align_items": null,
            "align_self": null,
            "border": null,
            "bottom": null,
            "display": null,
            "flex": null,
            "flex_flow": null,
            "grid_area": null,
            "grid_auto_columns": null,
            "grid_auto_flow": null,
            "grid_auto_rows": null,
            "grid_column": null,
            "grid_gap": null,
            "grid_row": null,
            "grid_template_areas": null,
            "grid_template_columns": null,
            "grid_template_rows": null,
            "height": null,
            "justify_content": null,
            "justify_items": null,
            "left": null,
            "margin": null,
            "max_height": null,
            "max_width": null,
            "min_height": null,
            "min_width": null,
            "object_fit": null,
            "object_position": null,
            "order": null,
            "overflow": null,
            "overflow_x": null,
            "overflow_y": null,
            "padding": null,
            "right": null,
            "top": null,
            "visibility": null,
            "width": null
          }
        },
        "b71ec2ba788e4e449e07bd3bd72b0bbf": {
          "model_module": "@jupyter-widgets/controls",
          "model_name": "ProgressStyleModel",
          "model_module_version": "1.5.0",
          "state": {
            "_model_module": "@jupyter-widgets/controls",
            "_model_module_version": "1.5.0",
            "_model_name": "ProgressStyleModel",
            "_view_count": null,
            "_view_module": "@jupyter-widgets/base",
            "_view_module_version": "1.2.0",
            "_view_name": "StyleView",
            "bar_color": null,
            "description_width": ""
          }
        },
        "a3a15b86131040a9a0e9723c656418b4": {
          "model_module": "@jupyter-widgets/controls",
          "model_name": "VBoxModel",
          "model_module_version": "1.5.0",
          "state": {
            "_dom_classes": [],
            "_model_module": "@jupyter-widgets/controls",
            "_model_module_version": "1.5.0",
            "_model_name": "VBoxModel",
            "_view_count": null,
            "_view_module": "@jupyter-widgets/controls",
            "_view_module_version": "1.5.0",
            "_view_name": "VBoxView",
            "box_style": "",
            "children": [
              "IPY_MODEL_33cb94302e814f4cba764bbd37a077a4",
              "IPY_MODEL_3240dee6e83e400eb50cff8b6134cb98"
            ],
            "layout": "IPY_MODEL_0f3de40710b54e078acaaff0f9f6053a"
          }
        },
        "33cb94302e814f4cba764bbd37a077a4": {
          "model_module": "@jupyter-widgets/controls",
          "model_name": "LabelModel",
          "model_module_version": "1.5.0",
          "state": {
            "_dom_classes": [],
            "_model_module": "@jupyter-widgets/controls",
            "_model_module_version": "1.5.0",
            "_model_name": "LabelModel",
            "_view_count": null,
            "_view_module": "@jupyter-widgets/controls",
            "_view_module_version": "1.5.0",
            "_view_name": "LabelView",
            "description": "",
            "description_tooltip": null,
            "layout": "IPY_MODEL_c82b350297bb4ea28b9d84508afa3f5e",
            "placeholder": "​",
            "style": "IPY_MODEL_f35da3fba9f94a9886339e49b007a59f",
            "value": "0.011 MB of 0.011 MB uploaded\r"
          }
        },
        "3240dee6e83e400eb50cff8b6134cb98": {
          "model_module": "@jupyter-widgets/controls",
          "model_name": "FloatProgressModel",
          "model_module_version": "1.5.0",
          "state": {
            "_dom_classes": [],
            "_model_module": "@jupyter-widgets/controls",
            "_model_module_version": "1.5.0",
            "_model_name": "FloatProgressModel",
            "_view_count": null,
            "_view_module": "@jupyter-widgets/controls",
            "_view_module_version": "1.5.0",
            "_view_name": "ProgressView",
            "bar_style": "",
            "description": "",
            "description_tooltip": null,
            "layout": "IPY_MODEL_02e6c9dc78b2443cab6108adab295022",
            "max": 1,
            "min": 0,
            "orientation": "horizontal",
            "style": "IPY_MODEL_494f33d844564549b2c4a2efa9f46548",
            "value": 1
          }
        },
        "0f3de40710b54e078acaaff0f9f6053a": {
          "model_module": "@jupyter-widgets/base",
          "model_name": "LayoutModel",
          "model_module_version": "1.2.0",
          "state": {
            "_model_module": "@jupyter-widgets/base",
            "_model_module_version": "1.2.0",
            "_model_name": "LayoutModel",
            "_view_count": null,
            "_view_module": "@jupyter-widgets/base",
            "_view_module_version": "1.2.0",
            "_view_name": "LayoutView",
            "align_content": null,
            "align_items": null,
            "align_self": null,
            "border": null,
            "bottom": null,
            "display": null,
            "flex": null,
            "flex_flow": null,
            "grid_area": null,
            "grid_auto_columns": null,
            "grid_auto_flow": null,
            "grid_auto_rows": null,
            "grid_column": null,
            "grid_gap": null,
            "grid_row": null,
            "grid_template_areas": null,
            "grid_template_columns": null,
            "grid_template_rows": null,
            "height": null,
            "justify_content": null,
            "justify_items": null,
            "left": null,
            "margin": null,
            "max_height": null,
            "max_width": null,
            "min_height": null,
            "min_width": null,
            "object_fit": null,
            "object_position": null,
            "order": null,
            "overflow": null,
            "overflow_x": null,
            "overflow_y": null,
            "padding": null,
            "right": null,
            "top": null,
            "visibility": null,
            "width": null
          }
        },
        "c82b350297bb4ea28b9d84508afa3f5e": {
          "model_module": "@jupyter-widgets/base",
          "model_name": "LayoutModel",
          "model_module_version": "1.2.0",
          "state": {
            "_model_module": "@jupyter-widgets/base",
            "_model_module_version": "1.2.0",
            "_model_name": "LayoutModel",
            "_view_count": null,
            "_view_module": "@jupyter-widgets/base",
            "_view_module_version": "1.2.0",
            "_view_name": "LayoutView",
            "align_content": null,
            "align_items": null,
            "align_self": null,
            "border": null,
            "bottom": null,
            "display": null,
            "flex": null,
            "flex_flow": null,
            "grid_area": null,
            "grid_auto_columns": null,
            "grid_auto_flow": null,
            "grid_auto_rows": null,
            "grid_column": null,
            "grid_gap": null,
            "grid_row": null,
            "grid_template_areas": null,
            "grid_template_columns": null,
            "grid_template_rows": null,
            "height": null,
            "justify_content": null,
            "justify_items": null,
            "left": null,
            "margin": null,
            "max_height": null,
            "max_width": null,
            "min_height": null,
            "min_width": null,
            "object_fit": null,
            "object_position": null,
            "order": null,
            "overflow": null,
            "overflow_x": null,
            "overflow_y": null,
            "padding": null,
            "right": null,
            "top": null,
            "visibility": null,
            "width": null
          }
        },
        "f35da3fba9f94a9886339e49b007a59f": {
          "model_module": "@jupyter-widgets/controls",
          "model_name": "DescriptionStyleModel",
          "model_module_version": "1.5.0",
          "state": {
            "_model_module": "@jupyter-widgets/controls",
            "_model_module_version": "1.5.0",
            "_model_name": "DescriptionStyleModel",
            "_view_count": null,
            "_view_module": "@jupyter-widgets/base",
            "_view_module_version": "1.2.0",
            "_view_name": "StyleView",
            "description_width": ""
          }
        },
        "02e6c9dc78b2443cab6108adab295022": {
          "model_module": "@jupyter-widgets/base",
          "model_name": "LayoutModel",
          "model_module_version": "1.2.0",
          "state": {
            "_model_module": "@jupyter-widgets/base",
            "_model_module_version": "1.2.0",
            "_model_name": "LayoutModel",
            "_view_count": null,
            "_view_module": "@jupyter-widgets/base",
            "_view_module_version": "1.2.0",
            "_view_name": "LayoutView",
            "align_content": null,
            "align_items": null,
            "align_self": null,
            "border": null,
            "bottom": null,
            "display": null,
            "flex": null,
            "flex_flow": null,
            "grid_area": null,
            "grid_auto_columns": null,
            "grid_auto_flow": null,
            "grid_auto_rows": null,
            "grid_column": null,
            "grid_gap": null,
            "grid_row": null,
            "grid_template_areas": null,
            "grid_template_columns": null,
            "grid_template_rows": null,
            "height": null,
            "justify_content": null,
            "justify_items": null,
            "left": null,
            "margin": null,
            "max_height": null,
            "max_width": null,
            "min_height": null,
            "min_width": null,
            "object_fit": null,
            "object_position": null,
            "order": null,
            "overflow": null,
            "overflow_x": null,
            "overflow_y": null,
            "padding": null,
            "right": null,
            "top": null,
            "visibility": null,
            "width": null
          }
        },
        "494f33d844564549b2c4a2efa9f46548": {
          "model_module": "@jupyter-widgets/controls",
          "model_name": "ProgressStyleModel",
          "model_module_version": "1.5.0",
          "state": {
            "_model_module": "@jupyter-widgets/controls",
            "_model_module_version": "1.5.0",
            "_model_name": "ProgressStyleModel",
            "_view_count": null,
            "_view_module": "@jupyter-widgets/base",
            "_view_module_version": "1.2.0",
            "_view_name": "StyleView",
            "bar_color": null,
            "description_width": ""
          }
        },
        "654b1c4f33744bc19d9bdff67a539414": {
          "model_module": "@jupyter-widgets/controls",
          "model_name": "VBoxModel",
          "model_module_version": "1.5.0",
          "state": {
            "_dom_classes": [],
            "_model_module": "@jupyter-widgets/controls",
            "_model_module_version": "1.5.0",
            "_model_name": "VBoxModel",
            "_view_count": null,
            "_view_module": "@jupyter-widgets/controls",
            "_view_module_version": "1.5.0",
            "_view_name": "VBoxView",
            "box_style": "",
            "children": [
              "IPY_MODEL_5ac0a9b61de646ae9ebd26a0f2698cf5",
              "IPY_MODEL_f3b1d07d65fe433c9df18b97c7006cfb"
            ],
            "layout": "IPY_MODEL_311e810069e944edbc43602d67cdc140"
          }
        },
        "5ac0a9b61de646ae9ebd26a0f2698cf5": {
          "model_module": "@jupyter-widgets/controls",
          "model_name": "LabelModel",
          "model_module_version": "1.5.0",
          "state": {
            "_dom_classes": [],
            "_model_module": "@jupyter-widgets/controls",
            "_model_module_version": "1.5.0",
            "_model_name": "LabelModel",
            "_view_count": null,
            "_view_module": "@jupyter-widgets/controls",
            "_view_module_version": "1.5.0",
            "_view_name": "LabelView",
            "description": "",
            "description_tooltip": null,
            "layout": "IPY_MODEL_04b6632bc52645dc995b6d0c933c9a9a",
            "placeholder": "​",
            "style": "IPY_MODEL_a78324a87cf84943ac1ec3cde0f76cec",
            "value": "0.012 MB of 0.012 MB uploaded\r"
          }
        },
        "f3b1d07d65fe433c9df18b97c7006cfb": {
          "model_module": "@jupyter-widgets/controls",
          "model_name": "FloatProgressModel",
          "model_module_version": "1.5.0",
          "state": {
            "_dom_classes": [],
            "_model_module": "@jupyter-widgets/controls",
            "_model_module_version": "1.5.0",
            "_model_name": "FloatProgressModel",
            "_view_count": null,
            "_view_module": "@jupyter-widgets/controls",
            "_view_module_version": "1.5.0",
            "_view_name": "ProgressView",
            "bar_style": "",
            "description": "",
            "description_tooltip": null,
            "layout": "IPY_MODEL_fea5a577123d413b846a47decad7b34a",
            "max": 1,
            "min": 0,
            "orientation": "horizontal",
            "style": "IPY_MODEL_543cbd7900f14eb5ba89f3e32abf8202",
            "value": 1
          }
        },
        "311e810069e944edbc43602d67cdc140": {
          "model_module": "@jupyter-widgets/base",
          "model_name": "LayoutModel",
          "model_module_version": "1.2.0",
          "state": {
            "_model_module": "@jupyter-widgets/base",
            "_model_module_version": "1.2.0",
            "_model_name": "LayoutModel",
            "_view_count": null,
            "_view_module": "@jupyter-widgets/base",
            "_view_module_version": "1.2.0",
            "_view_name": "LayoutView",
            "align_content": null,
            "align_items": null,
            "align_self": null,
            "border": null,
            "bottom": null,
            "display": null,
            "flex": null,
            "flex_flow": null,
            "grid_area": null,
            "grid_auto_columns": null,
            "grid_auto_flow": null,
            "grid_auto_rows": null,
            "grid_column": null,
            "grid_gap": null,
            "grid_row": null,
            "grid_template_areas": null,
            "grid_template_columns": null,
            "grid_template_rows": null,
            "height": null,
            "justify_content": null,
            "justify_items": null,
            "left": null,
            "margin": null,
            "max_height": null,
            "max_width": null,
            "min_height": null,
            "min_width": null,
            "object_fit": null,
            "object_position": null,
            "order": null,
            "overflow": null,
            "overflow_x": null,
            "overflow_y": null,
            "padding": null,
            "right": null,
            "top": null,
            "visibility": null,
            "width": null
          }
        },
        "04b6632bc52645dc995b6d0c933c9a9a": {
          "model_module": "@jupyter-widgets/base",
          "model_name": "LayoutModel",
          "model_module_version": "1.2.0",
          "state": {
            "_model_module": "@jupyter-widgets/base",
            "_model_module_version": "1.2.0",
            "_model_name": "LayoutModel",
            "_view_count": null,
            "_view_module": "@jupyter-widgets/base",
            "_view_module_version": "1.2.0",
            "_view_name": "LayoutView",
            "align_content": null,
            "align_items": null,
            "align_self": null,
            "border": null,
            "bottom": null,
            "display": null,
            "flex": null,
            "flex_flow": null,
            "grid_area": null,
            "grid_auto_columns": null,
            "grid_auto_flow": null,
            "grid_auto_rows": null,
            "grid_column": null,
            "grid_gap": null,
            "grid_row": null,
            "grid_template_areas": null,
            "grid_template_columns": null,
            "grid_template_rows": null,
            "height": null,
            "justify_content": null,
            "justify_items": null,
            "left": null,
            "margin": null,
            "max_height": null,
            "max_width": null,
            "min_height": null,
            "min_width": null,
            "object_fit": null,
            "object_position": null,
            "order": null,
            "overflow": null,
            "overflow_x": null,
            "overflow_y": null,
            "padding": null,
            "right": null,
            "top": null,
            "visibility": null,
            "width": null
          }
        },
        "a78324a87cf84943ac1ec3cde0f76cec": {
          "model_module": "@jupyter-widgets/controls",
          "model_name": "DescriptionStyleModel",
          "model_module_version": "1.5.0",
          "state": {
            "_model_module": "@jupyter-widgets/controls",
            "_model_module_version": "1.5.0",
            "_model_name": "DescriptionStyleModel",
            "_view_count": null,
            "_view_module": "@jupyter-widgets/base",
            "_view_module_version": "1.2.0",
            "_view_name": "StyleView",
            "description_width": ""
          }
        },
        "fea5a577123d413b846a47decad7b34a": {
          "model_module": "@jupyter-widgets/base",
          "model_name": "LayoutModel",
          "model_module_version": "1.2.0",
          "state": {
            "_model_module": "@jupyter-widgets/base",
            "_model_module_version": "1.2.0",
            "_model_name": "LayoutModel",
            "_view_count": null,
            "_view_module": "@jupyter-widgets/base",
            "_view_module_version": "1.2.0",
            "_view_name": "LayoutView",
            "align_content": null,
            "align_items": null,
            "align_self": null,
            "border": null,
            "bottom": null,
            "display": null,
            "flex": null,
            "flex_flow": null,
            "grid_area": null,
            "grid_auto_columns": null,
            "grid_auto_flow": null,
            "grid_auto_rows": null,
            "grid_column": null,
            "grid_gap": null,
            "grid_row": null,
            "grid_template_areas": null,
            "grid_template_columns": null,
            "grid_template_rows": null,
            "height": null,
            "justify_content": null,
            "justify_items": null,
            "left": null,
            "margin": null,
            "max_height": null,
            "max_width": null,
            "min_height": null,
            "min_width": null,
            "object_fit": null,
            "object_position": null,
            "order": null,
            "overflow": null,
            "overflow_x": null,
            "overflow_y": null,
            "padding": null,
            "right": null,
            "top": null,
            "visibility": null,
            "width": null
          }
        },
        "543cbd7900f14eb5ba89f3e32abf8202": {
          "model_module": "@jupyter-widgets/controls",
          "model_name": "ProgressStyleModel",
          "model_module_version": "1.5.0",
          "state": {
            "_model_module": "@jupyter-widgets/controls",
            "_model_module_version": "1.5.0",
            "_model_name": "ProgressStyleModel",
            "_view_count": null,
            "_view_module": "@jupyter-widgets/base",
            "_view_module_version": "1.2.0",
            "_view_name": "StyleView",
            "bar_color": null,
            "description_width": ""
          }
        },
        "58d37f354c3046c58dac5746a228cb23": {
          "model_module": "@jupyter-widgets/controls",
          "model_name": "VBoxModel",
          "model_module_version": "1.5.0",
          "state": {
            "_dom_classes": [],
            "_model_module": "@jupyter-widgets/controls",
            "_model_module_version": "1.5.0",
            "_model_name": "VBoxModel",
            "_view_count": null,
            "_view_module": "@jupyter-widgets/controls",
            "_view_module_version": "1.5.0",
            "_view_name": "VBoxView",
            "box_style": "",
            "children": [
              "IPY_MODEL_86a94cb0ec464972b02b08a1b0a35b14",
              "IPY_MODEL_c24d9f31b97a4bfd84856f97105159d2"
            ],
            "layout": "IPY_MODEL_66ea944810714ee29a17f787bd1464ba"
          }
        },
        "86a94cb0ec464972b02b08a1b0a35b14": {
          "model_module": "@jupyter-widgets/controls",
          "model_name": "LabelModel",
          "model_module_version": "1.5.0",
          "state": {
            "_dom_classes": [],
            "_model_module": "@jupyter-widgets/controls",
            "_model_module_version": "1.5.0",
            "_model_name": "LabelModel",
            "_view_count": null,
            "_view_module": "@jupyter-widgets/controls",
            "_view_module_version": "1.5.0",
            "_view_name": "LabelView",
            "description": "",
            "description_tooltip": null,
            "layout": "IPY_MODEL_7f0c2c7eefb74b45a0131b3ddc23023e",
            "placeholder": "​",
            "style": "IPY_MODEL_cb04ec18458346e48ac5d6fbfb6695e2",
            "value": "0.011 MB of 0.011 MB uploaded\r"
          }
        },
        "c24d9f31b97a4bfd84856f97105159d2": {
          "model_module": "@jupyter-widgets/controls",
          "model_name": "FloatProgressModel",
          "model_module_version": "1.5.0",
          "state": {
            "_dom_classes": [],
            "_model_module": "@jupyter-widgets/controls",
            "_model_module_version": "1.5.0",
            "_model_name": "FloatProgressModel",
            "_view_count": null,
            "_view_module": "@jupyter-widgets/controls",
            "_view_module_version": "1.5.0",
            "_view_name": "ProgressView",
            "bar_style": "",
            "description": "",
            "description_tooltip": null,
            "layout": "IPY_MODEL_fff7bcff2b3f47a98a6b325fc75fcf90",
            "max": 1,
            "min": 0,
            "orientation": "horizontal",
            "style": "IPY_MODEL_e8b1cd27f53f4bbdba3e19dbf0abbf72",
            "value": 1
          }
        },
        "66ea944810714ee29a17f787bd1464ba": {
          "model_module": "@jupyter-widgets/base",
          "model_name": "LayoutModel",
          "model_module_version": "1.2.0",
          "state": {
            "_model_module": "@jupyter-widgets/base",
            "_model_module_version": "1.2.0",
            "_model_name": "LayoutModel",
            "_view_count": null,
            "_view_module": "@jupyter-widgets/base",
            "_view_module_version": "1.2.0",
            "_view_name": "LayoutView",
            "align_content": null,
            "align_items": null,
            "align_self": null,
            "border": null,
            "bottom": null,
            "display": null,
            "flex": null,
            "flex_flow": null,
            "grid_area": null,
            "grid_auto_columns": null,
            "grid_auto_flow": null,
            "grid_auto_rows": null,
            "grid_column": null,
            "grid_gap": null,
            "grid_row": null,
            "grid_template_areas": null,
            "grid_template_columns": null,
            "grid_template_rows": null,
            "height": null,
            "justify_content": null,
            "justify_items": null,
            "left": null,
            "margin": null,
            "max_height": null,
            "max_width": null,
            "min_height": null,
            "min_width": null,
            "object_fit": null,
            "object_position": null,
            "order": null,
            "overflow": null,
            "overflow_x": null,
            "overflow_y": null,
            "padding": null,
            "right": null,
            "top": null,
            "visibility": null,
            "width": null
          }
        },
        "7f0c2c7eefb74b45a0131b3ddc23023e": {
          "model_module": "@jupyter-widgets/base",
          "model_name": "LayoutModel",
          "model_module_version": "1.2.0",
          "state": {
            "_model_module": "@jupyter-widgets/base",
            "_model_module_version": "1.2.0",
            "_model_name": "LayoutModel",
            "_view_count": null,
            "_view_module": "@jupyter-widgets/base",
            "_view_module_version": "1.2.0",
            "_view_name": "LayoutView",
            "align_content": null,
            "align_items": null,
            "align_self": null,
            "border": null,
            "bottom": null,
            "display": null,
            "flex": null,
            "flex_flow": null,
            "grid_area": null,
            "grid_auto_columns": null,
            "grid_auto_flow": null,
            "grid_auto_rows": null,
            "grid_column": null,
            "grid_gap": null,
            "grid_row": null,
            "grid_template_areas": null,
            "grid_template_columns": null,
            "grid_template_rows": null,
            "height": null,
            "justify_content": null,
            "justify_items": null,
            "left": null,
            "margin": null,
            "max_height": null,
            "max_width": null,
            "min_height": null,
            "min_width": null,
            "object_fit": null,
            "object_position": null,
            "order": null,
            "overflow": null,
            "overflow_x": null,
            "overflow_y": null,
            "padding": null,
            "right": null,
            "top": null,
            "visibility": null,
            "width": null
          }
        },
        "cb04ec18458346e48ac5d6fbfb6695e2": {
          "model_module": "@jupyter-widgets/controls",
          "model_name": "DescriptionStyleModel",
          "model_module_version": "1.5.0",
          "state": {
            "_model_module": "@jupyter-widgets/controls",
            "_model_module_version": "1.5.0",
            "_model_name": "DescriptionStyleModel",
            "_view_count": null,
            "_view_module": "@jupyter-widgets/base",
            "_view_module_version": "1.2.0",
            "_view_name": "StyleView",
            "description_width": ""
          }
        },
        "fff7bcff2b3f47a98a6b325fc75fcf90": {
          "model_module": "@jupyter-widgets/base",
          "model_name": "LayoutModel",
          "model_module_version": "1.2.0",
          "state": {
            "_model_module": "@jupyter-widgets/base",
            "_model_module_version": "1.2.0",
            "_model_name": "LayoutModel",
            "_view_count": null,
            "_view_module": "@jupyter-widgets/base",
            "_view_module_version": "1.2.0",
            "_view_name": "LayoutView",
            "align_content": null,
            "align_items": null,
            "align_self": null,
            "border": null,
            "bottom": null,
            "display": null,
            "flex": null,
            "flex_flow": null,
            "grid_area": null,
            "grid_auto_columns": null,
            "grid_auto_flow": null,
            "grid_auto_rows": null,
            "grid_column": null,
            "grid_gap": null,
            "grid_row": null,
            "grid_template_areas": null,
            "grid_template_columns": null,
            "grid_template_rows": null,
            "height": null,
            "justify_content": null,
            "justify_items": null,
            "left": null,
            "margin": null,
            "max_height": null,
            "max_width": null,
            "min_height": null,
            "min_width": null,
            "object_fit": null,
            "object_position": null,
            "order": null,
            "overflow": null,
            "overflow_x": null,
            "overflow_y": null,
            "padding": null,
            "right": null,
            "top": null,
            "visibility": null,
            "width": null
          }
        },
        "e8b1cd27f53f4bbdba3e19dbf0abbf72": {
          "model_module": "@jupyter-widgets/controls",
          "model_name": "ProgressStyleModel",
          "model_module_version": "1.5.0",
          "state": {
            "_model_module": "@jupyter-widgets/controls",
            "_model_module_version": "1.5.0",
            "_model_name": "ProgressStyleModel",
            "_view_count": null,
            "_view_module": "@jupyter-widgets/base",
            "_view_module_version": "1.2.0",
            "_view_name": "StyleView",
            "bar_color": null,
            "description_width": ""
          }
        },
        "b9a140481740403d8f2b101a555c8b32": {
          "model_module": "@jupyter-widgets/controls",
          "model_name": "VBoxModel",
          "model_module_version": "1.5.0",
          "state": {
            "_dom_classes": [],
            "_model_module": "@jupyter-widgets/controls",
            "_model_module_version": "1.5.0",
            "_model_name": "VBoxModel",
            "_view_count": null,
            "_view_module": "@jupyter-widgets/controls",
            "_view_module_version": "1.5.0",
            "_view_name": "VBoxView",
            "box_style": "",
            "children": [
              "IPY_MODEL_27efbef98b234b81864dfb790a135969",
              "IPY_MODEL_d615b51f73a146acad14ccfc962f7a5f"
            ],
            "layout": "IPY_MODEL_6da80d6df6254d82949857289fbd1c6a"
          }
        },
        "27efbef98b234b81864dfb790a135969": {
          "model_module": "@jupyter-widgets/controls",
          "model_name": "LabelModel",
          "model_module_version": "1.5.0",
          "state": {
            "_dom_classes": [],
            "_model_module": "@jupyter-widgets/controls",
            "_model_module_version": "1.5.0",
            "_model_name": "LabelModel",
            "_view_count": null,
            "_view_module": "@jupyter-widgets/controls",
            "_view_module_version": "1.5.0",
            "_view_name": "LabelView",
            "description": "",
            "description_tooltip": null,
            "layout": "IPY_MODEL_cf6d0f8a6981480e82f556205767adef",
            "placeholder": "​",
            "style": "IPY_MODEL_43bc5c84a88d4811ada9e1438565f274",
            "value": "0.011 MB of 0.011 MB uploaded\r"
          }
        },
        "d615b51f73a146acad14ccfc962f7a5f": {
          "model_module": "@jupyter-widgets/controls",
          "model_name": "FloatProgressModel",
          "model_module_version": "1.5.0",
          "state": {
            "_dom_classes": [],
            "_model_module": "@jupyter-widgets/controls",
            "_model_module_version": "1.5.0",
            "_model_name": "FloatProgressModel",
            "_view_count": null,
            "_view_module": "@jupyter-widgets/controls",
            "_view_module_version": "1.5.0",
            "_view_name": "ProgressView",
            "bar_style": "",
            "description": "",
            "description_tooltip": null,
            "layout": "IPY_MODEL_068019072a534874b80861ae4d20e405",
            "max": 1,
            "min": 0,
            "orientation": "horizontal",
            "style": "IPY_MODEL_87508f25e75c4f858c9df335b165095d",
            "value": 1
          }
        },
        "6da80d6df6254d82949857289fbd1c6a": {
          "model_module": "@jupyter-widgets/base",
          "model_name": "LayoutModel",
          "model_module_version": "1.2.0",
          "state": {
            "_model_module": "@jupyter-widgets/base",
            "_model_module_version": "1.2.0",
            "_model_name": "LayoutModel",
            "_view_count": null,
            "_view_module": "@jupyter-widgets/base",
            "_view_module_version": "1.2.0",
            "_view_name": "LayoutView",
            "align_content": null,
            "align_items": null,
            "align_self": null,
            "border": null,
            "bottom": null,
            "display": null,
            "flex": null,
            "flex_flow": null,
            "grid_area": null,
            "grid_auto_columns": null,
            "grid_auto_flow": null,
            "grid_auto_rows": null,
            "grid_column": null,
            "grid_gap": null,
            "grid_row": null,
            "grid_template_areas": null,
            "grid_template_columns": null,
            "grid_template_rows": null,
            "height": null,
            "justify_content": null,
            "justify_items": null,
            "left": null,
            "margin": null,
            "max_height": null,
            "max_width": null,
            "min_height": null,
            "min_width": null,
            "object_fit": null,
            "object_position": null,
            "order": null,
            "overflow": null,
            "overflow_x": null,
            "overflow_y": null,
            "padding": null,
            "right": null,
            "top": null,
            "visibility": null,
            "width": null
          }
        },
        "cf6d0f8a6981480e82f556205767adef": {
          "model_module": "@jupyter-widgets/base",
          "model_name": "LayoutModel",
          "model_module_version": "1.2.0",
          "state": {
            "_model_module": "@jupyter-widgets/base",
            "_model_module_version": "1.2.0",
            "_model_name": "LayoutModel",
            "_view_count": null,
            "_view_module": "@jupyter-widgets/base",
            "_view_module_version": "1.2.0",
            "_view_name": "LayoutView",
            "align_content": null,
            "align_items": null,
            "align_self": null,
            "border": null,
            "bottom": null,
            "display": null,
            "flex": null,
            "flex_flow": null,
            "grid_area": null,
            "grid_auto_columns": null,
            "grid_auto_flow": null,
            "grid_auto_rows": null,
            "grid_column": null,
            "grid_gap": null,
            "grid_row": null,
            "grid_template_areas": null,
            "grid_template_columns": null,
            "grid_template_rows": null,
            "height": null,
            "justify_content": null,
            "justify_items": null,
            "left": null,
            "margin": null,
            "max_height": null,
            "max_width": null,
            "min_height": null,
            "min_width": null,
            "object_fit": null,
            "object_position": null,
            "order": null,
            "overflow": null,
            "overflow_x": null,
            "overflow_y": null,
            "padding": null,
            "right": null,
            "top": null,
            "visibility": null,
            "width": null
          }
        },
        "43bc5c84a88d4811ada9e1438565f274": {
          "model_module": "@jupyter-widgets/controls",
          "model_name": "DescriptionStyleModel",
          "model_module_version": "1.5.0",
          "state": {
            "_model_module": "@jupyter-widgets/controls",
            "_model_module_version": "1.5.0",
            "_model_name": "DescriptionStyleModel",
            "_view_count": null,
            "_view_module": "@jupyter-widgets/base",
            "_view_module_version": "1.2.0",
            "_view_name": "StyleView",
            "description_width": ""
          }
        },
        "068019072a534874b80861ae4d20e405": {
          "model_module": "@jupyter-widgets/base",
          "model_name": "LayoutModel",
          "model_module_version": "1.2.0",
          "state": {
            "_model_module": "@jupyter-widgets/base",
            "_model_module_version": "1.2.0",
            "_model_name": "LayoutModel",
            "_view_count": null,
            "_view_module": "@jupyter-widgets/base",
            "_view_module_version": "1.2.0",
            "_view_name": "LayoutView",
            "align_content": null,
            "align_items": null,
            "align_self": null,
            "border": null,
            "bottom": null,
            "display": null,
            "flex": null,
            "flex_flow": null,
            "grid_area": null,
            "grid_auto_columns": null,
            "grid_auto_flow": null,
            "grid_auto_rows": null,
            "grid_column": null,
            "grid_gap": null,
            "grid_row": null,
            "grid_template_areas": null,
            "grid_template_columns": null,
            "grid_template_rows": null,
            "height": null,
            "justify_content": null,
            "justify_items": null,
            "left": null,
            "margin": null,
            "max_height": null,
            "max_width": null,
            "min_height": null,
            "min_width": null,
            "object_fit": null,
            "object_position": null,
            "order": null,
            "overflow": null,
            "overflow_x": null,
            "overflow_y": null,
            "padding": null,
            "right": null,
            "top": null,
            "visibility": null,
            "width": null
          }
        },
        "87508f25e75c4f858c9df335b165095d": {
          "model_module": "@jupyter-widgets/controls",
          "model_name": "ProgressStyleModel",
          "model_module_version": "1.5.0",
          "state": {
            "_model_module": "@jupyter-widgets/controls",
            "_model_module_version": "1.5.0",
            "_model_name": "ProgressStyleModel",
            "_view_count": null,
            "_view_module": "@jupyter-widgets/base",
            "_view_module_version": "1.2.0",
            "_view_name": "StyleView",
            "bar_color": null,
            "description_width": ""
          }
        }
      }
    }
  },
  "nbformat": 4,
  "nbformat_minor": 0
}